{
 "cells": [
  {
   "cell_type": "markdown",
   "metadata": {},
   "source": [
    "Modified from \n",
    "https://lectures.quantecon.org/jl/lake_model.html"
   ]
  },
  {
   "cell_type": "markdown",
   "metadata": {},
   "source": [
    "# Some utility functions\n",
    "These will be added to libraries in the future, so no needd to understand the details"
   ]
  },
  {
   "cell_type": "code",
   "execution_count": 7,
   "metadata": {},
   "outputs": [
    {
     "data": {
      "text/plain": [
       "@with_kw (macro with 1 method)"
      ]
     },
     "execution_count": 7,
     "metadata": {},
     "output_type": "execute_result"
    }
   ],
   "source": [
    "using Parameters, NamedTuples, MacroTools\n",
    "\n",
    "#Finds the fixed point of an operator.  This will be replaced by the NLsolve.jl based on at some point when it is functional.\n",
    "function fixedpoint(f, x0; tol = 1E-10, maxiter=100)\n",
    "    residual = Inf\n",
    "    iter = 1\n",
    "    xold = x0\n",
    "    while residual > tol && iter < maxiter\n",
    "        xnew = f(xold)        \n",
    "        residual = norm(xold - xnew);\n",
    "        xold = xnew\n",
    "        iter += 1\n",
    "    end\n",
    "    return xold\n",
    "end\n",
    "\n",
    "#Generator for tuples with keyw\n",
    "macro with_kw(args...)\n",
    "    splits = map(args) do arg\n",
    "        @match arg begin\n",
    "            (a_ = b_) => (a, b)\n",
    "            any_ => error(\"All arguments must be assignments\")\n",
    "        end\n",
    "    end\n",
    "    esc(:(\n",
    "        (;$(map(splits) do pair\n",
    "            Expr(:kw, pair[1], pair[2])\n",
    "        end...),) -> \n",
    "        $NamedTuples.@NT($(map(splits) do pair\n",
    "            Expr(:kw, pair[1], pair[1])\n",
    "        end...))\n",
    "    ))\n",
    "\n",
    "end"
   ]
  },
  {
   "cell_type": "code",
   "execution_count": 47,
   "metadata": {},
   "outputs": [
    {
     "data": {
      "text/plain": [
       "rate_steady_state2 (generic function with 1 method)"
      ]
     },
     "execution_count": 47,
     "metadata": {},
     "output_type": "execute_result"
    }
   ],
   "source": [
    "using QuantEcon\n",
    "#Default Parameters\n",
    "lm_defaults = @with_kw(λ=0.283, α=0.013,b=0.0124, d=0.00822);\n",
    "\n",
    "#Calculate transition matrices\n",
    "function lakemodel_transitions(lm)\n",
    "    @unpack λ, α , b, d = lm\n",
    "    g = b - d\n",
    "    A = [(1-λ) * (1-d) + b  (1-d) * α + b;\n",
    "         (1-d) * λ          (1-d) * (1-α)]\n",
    "    A_hat = A ./ (1 + g)\n",
    "    return A, A_hat\n",
    "end\n",
    "\n",
    "#To calculate the steady state, iterate or use the markov chain A_hat\n",
    "rate_steady_state(A_hat) = fixedpoint(x -> A_hat * x, [1.0; 0.0]) #Iterate the fixed point.  No absorbing states, so initial condition does not matter\n",
    "rate_steady_state2(A_hat) = stationary_distributions( MarkovChain(A_hat')) #Alternatively, it is the stationary_distribution of the A_hat' markov chain"
   ]
  },
  {
   "cell_type": "code",
   "execution_count": 15,
   "metadata": {},
   "outputs": [
    {
     "data": {
      "text/plain": [
       "simulate_rate_path (generic function with 2 methods)"
      ]
     },
     "execution_count": 15,
     "metadata": {},
     "output_type": "execute_result"
    }
   ],
   "source": [
    "struct LakeModel{TF <: AbstractFloat}\n",
    "    λ::TF\n",
    "    α::TF\n",
    "    b::TF\n",
    "    d::TF\n",
    "    g::TF\n",
    "    A::Matrix{TF}\n",
    "    A_hat::Matrix{TF}\n",
    "end\n",
    "\n",
    "function LakeModel(;λ = 0.283,\n",
    "                    α = 0.013,\n",
    "                    b = 0.0124,\n",
    "                    d = 0.00822)\n",
    "\n",
    "    g = b - d\n",
    "    A = [(1-λ) * (1-d) + b  (1-d) * α + b;\n",
    "         (1-d) * λ          (1-d) * (1-α)]\n",
    "    A_hat = A ./ (1 + g)\n",
    "\n",
    "    return LakeModel(λ, α, b, d, g, A, A_hat)\n",
    "end\n",
    "\n",
    "function rate_steady_state(lm, tol=1e-6)\n",
    "    x = 0.5 * ones(2)\n",
    "    error = tol + 1\n",
    "    while (error > tol)\n",
    "        new_x = lm.A_hat * x\n",
    "        error = maximum(abs, new_x - x)\n",
    "        x = new_x\n",
    "    end\n",
    "    return x\n",
    "end\n",
    "\n",
    "\n",
    "function simulate_stock_path(lm, X0, T)\n",
    "    X_path = Array{TF}(2, T)\n",
    "    X = copy(X0)\n",
    "    for t in 1:T\n",
    "        X_path[:, t] = X\n",
    "        X = lm.A * X\n",
    "    end\n",
    "    return X_path\n",
    "end\n",
    "\n",
    "\n",
    "function simulate_rate_path(lm, x0, T)\n",
    "    x_path = Array{TF}(2, T)\n",
    "    x = copy(x0)\n",
    "    for t in 1:T\n",
    "        x_path[:, t] = x\n",
    "        x = lm.A_hat * x\n",
    "    end\n",
    "    return x_path\n",
    "end"
   ]
  },
  {
   "cell_type": "code",
   "execution_count": 41,
   "metadata": {},
   "outputs": [
    {
     "name": "stdout",
     "output_type": "stream",
     "text": [
      "xbar = lakemodel_steadystate(A_hat) = [0.0826663, 0.917334]\n"
     ]
    },
    {
     "data": {
      "text/plain": [
       "2-element Array{Float64,1}:\n",
       " 0.0826663\n",
       " 0.917334 "
      ]
     },
     "execution_count": 41,
     "metadata": {},
     "output_type": "execute_result"
    }
   ],
   "source": [
    "lm = LakeModel()\n",
    "e, f = eigvals(lm.A_hat)\n",
    "abs(e), abs(f)\n",
    "\n",
    "lm2 = lm_defaults()\n",
    "A, A_hat = lakemodel_transitions(lm2)\n",
    "\n",
    "@show xbar = rate_steady_state(A_hat)"
   ]
  },
  {
   "cell_type": "code",
   "execution_count": null,
   "metadata": {},
   "outputs": [],
   "source": [
    "lm2 = lm_defaults()\n",
    "A, A_hat = lakemodel_transitions(lm2)\n",
    "\n",
    "T = 5000     # Simulation length\n",
    "@unpack α, λ = lm2\n",
    "\n",
    "\n",
    "P = [(1 - λ)     λ; \n",
    "     α       (1 - α)]\n",
    "\n",
    "mc = MarkovChain(P, [0; 1])     # 0=unemployed, 1=employed\n",
    "xbar = rate_steady_state(lm)\n",
    "\n",
    "s_path = simulate(mc, T; init=2)\n",
    "s_bar_e = cumsum(s_path) ./ (1:T)\n",
    "s_bar_u = 1 - s_bar_e\n",
    "s_bars = [s_bar_u s_bar_e]\n",
    "\n",
    "titles = [\"Percent of time unemployed\" \"Percent of time employed\"]\n",
    "\n",
    "fig, axes = subplots(2, 1, figsize=(10, 8))\n",
    "\n",
    "for (i, ax) in enumerate(axes)\n",
    "    ax[:plot](1:T, s_bars[:, i], c=\"blue\", lw=2, alpha=0.5)\n",
    "    ax[:hlines](xbar[i], 0, T, \"r\", \"--\")\n",
    "    ax[:set](title=titles[i])\n",
    "end"
   ]
  },
  {
   "cell_type": "code",
   "execution_count": 19,
   "metadata": {},
   "outputs": [
    {
     "data": {
      "image/png": "[encoded data removed]",
      "text/plain": [
       "PyPlot.Figure(PyObject <matplotlib.figure.Figure object at 0x000000003CFE9198>)"
      ]
     },
     "metadata": {},
     "output_type": "display_data",
     "source": "julia"
    }
   ],
   "source": [
    "using QuantEcon\n",
    "lm = LakeModel()\n",
    "e, f = eigvals(lm.A_hat)\n",
    "abs(e), abs(f)\n",
    "\n",
    "srand(42)\n",
    "lm = LakeModel(d=0.0, b=0.0)\n",
    "T = 5000     # Simulation length\n",
    "\n",
    "α, λ = lm.α, lm.λ\n",
    "P = [(1 - λ)     λ; \n",
    "     α       (1 - α)]\n",
    "\n",
    "mc = MarkovChain(P, [0; 1])     # 0=unemployed, 1=employed\n",
    "xbar = rate_steady_state(lm)\n",
    "\n",
    "s_path = simulate(mc, T; init=2)\n",
    "s_bar_e = cumsum(s_path) ./ (1:T)\n",
    "s_bar_u = 1 - s_bar_e\n",
    "s_bars = [s_bar_u s_bar_e]\n",
    "\n",
    "titles = [\"Percent of time unemployed\" \"Percent of time employed\"]\n",
    "\n",
    "fig, axes = subplots(2, 1, figsize=(10, 8))\n",
    "\n",
    "for (i, ax) in enumerate(axes)\n",
    "    ax[:plot](1:T, s_bars[:, i], c=\"blue\", lw=2, alpha=0.5)\n",
    "    ax[:hlines](xbar[i], 0, T, \"r\", \"--\")\n",
    "    ax[:set](title=titles[i])\n",
    "end"
   ]
  },
  {
   "cell_type": "code",
   "execution_count": null,
   "metadata": {},
   "outputs": [],
   "source": [
    "using Distributions\n",
    "\n",
    "# A default utility function\n",
    "\n",
    "function u(c::Real, σ::Real)\n",
    "    if c > 0\n",
    "        return (c^(1 - σ) - 1) / (1 - σ)\n",
    "    else\n",
    "        return -10e6\n",
    "    end\n",
    "end\n",
    "\n",
    "# default wage vector with probabilities\n",
    "\n",
    "const n = 60                                   # n possible outcomes for wage\n",
    "const default_w_vec = linspace(10, 20, n)   # wages between 10 and 20\n",
    "const a, b = 600, 400                          # shape parameters\n",
    "const dist = BetaBinomial(n-1, a, b)\n",
    "const default_p_vec = pdf(dist)\n",
    "\n",
    "mutable struct McCallModel{TF <: AbstractFloat,\n",
    "                           TAV <: AbstractVector{TF},\n",
    "                           TAV2 <: AbstractVector{TF}}\n",
    "    α::TF        # Job separation rate\n",
    "    β::TF         # Discount rate\n",
    "    γ::TF        # Job offer rate\n",
    "    c::TF            # Unemployment compensation\n",
    "    σ::TF        # Utility parameter\n",
    "    w_vec::TAV # Possible wage values\n",
    "    p_vec::TAV2 # Probabilities over w_vec\n",
    "\n",
    "    McCallModel(α::TF=0.2,\n",
    "                β::TF=0.98,\n",
    "                γ::TF=0.7,\n",
    "                c::TF=6.0,\n",
    "                σ::TF=2.0,\n",
    "                w_vec::TAV=default_w_vec,\n",
    "                p_vec::TAV2=default_p_vec) where {TF, TAV, TAV2} =\n",
    "        new{TF, TAV, TAV2}(α, β, γ, c, σ, w_vec, p_vec)\n",
    "end\n",
    "\n",
    "\"\"\"\n",
    "A function to update the Bellman equations.  Note that V_new is modified in\n",
    "place (i.e, modified by this function).  The new value of U is returned.\n",
    "\n",
    "\"\"\"\n",
    "function update_bellman!(mcm::McCallModel, V::AbstractVector,\n",
    "                         V_new::AbstractVector, U::Real)\n",
    "    # Simplify notation\n",
    "    α, β, σ, c, γ = mcm.α, mcm.β, mcm.σ, mcm.c, mcm.γ\n",
    "\n",
    "    for (w_idx, w) in enumerate(mcm.w_vec)\n",
    "        # w_idx indexes the vector of possible wages\n",
    "        V_new[w_idx] = u(w, σ) + β * ((1 - α) * V[w_idx] + α * U)\n",
    "    end\n",
    "\n",
    "    U_new = u(c, σ) + β * (1 - γ) * U +\n",
    "                    β * γ * dot(max.(U, V), mcm.p_vec)\n",
    "\n",
    "    return U_new\n",
    "end\n",
    "\n",
    "\n",
    "function solve_mccall_model(mcm::McCallModel;\n",
    "                            tol::AbstractFloat=1e-5, max_iter::Integer=2000)\n",
    "\n",
    "    V = ones(length(mcm.w_vec))  # Initial guess of V\n",
    "    V_new = similar(V)           # To store updates to V\n",
    "    U = 1.0                        # Initial guess of U\n",
    "    i = 0\n",
    "    error = tol + 1\n",
    "\n",
    "    while error > tol && i < max_iter\n",
    "        U_new = update_bellman!(mcm, V, V_new, U)\n",
    "        error_1 = maximum(abs, V_new - V)\n",
    "        error_2 = abs(U_new - U)\n",
    "        error = max(error_1, error_2)\n",
    "        V[:] = V_new\n",
    "        U = U_new\n",
    "        i += 1\n",
    "    end\n",
    "\n",
    "    return V, U\n",
    "end"
   ]
  },
  {
   "cell_type": "code",
   "execution_count": null,
   "metadata": {},
   "outputs": [],
   "source": [
    "\"\"\"\n",
    "Computes the reservation wage of an instance of the McCall model\n",
    "by finding the smallest w such that V(w) > U.\n",
    "\n",
    "If V(w) > U for all w, then the reservation wage w_bar is set to\n",
    "the lowest wage in mcm.w_vec.\n",
    "\n",
    "If v(w) < U for all w, then w_bar is set to np.inf.\n",
    "\n",
    "Parameters\n",
    "----------\n",
    "mcm : an instance of McCallModel\n",
    "return_values : bool (optional, default=false)\n",
    "    Return the value functions as well\n",
    "\n",
    "Returns\n",
    "-------\n",
    "w_bar : scalar\n",
    "    The reservation wage\n",
    "\n",
    "\"\"\"\n",
    "function compute_reservation_wage(mcm::McCallModel; return_values::Bool=false)\n",
    "\n",
    "    V, U = solve_mccall_model(mcm)\n",
    "    w_idx = searchsortedfirst(V - U, 0)\n",
    "\n",
    "    if w_idx == length(V)\n",
    "        w_bar = Inf\n",
    "    else\n",
    "        w_bar = mcm.w_vec[w_idx]\n",
    "    end\n",
    "\n",
    "    if return_values == false\n",
    "        return w_bar\n",
    "    else\n",
    "        return w_bar, V, U\n",
    "    end\n",
    "\n",
    "end"
   ]
  },
  {
   "cell_type": "code",
   "execution_count": null,
   "metadata": {},
   "outputs": [],
   "source": [
    "# Some global variables that will stay constant\n",
    "α = 0.013\n",
    "α_q = (1-(1-α)^3)\n",
    "b_param = 0.0124\n",
    "d_param = 0.00822\n",
    "β = 0.98\n",
    "γ = 1.0\n",
    "σ = 2.0\n",
    "\n",
    "# The default wage distribution: a discretized log normal\n",
    "log_wage_mean, wage_grid_size, max_wage = 20, 200, 170\n",
    "w_vec = linspace(1e-3, max_wage, wage_grid_size + 1)\n",
    "logw_dist = Normal(log(log_wage_mean), 1)\n",
    "cdf_logw = cdf.(logw_dist, log.(w_vec))\n",
    "pdf_logw = cdf_logw[2:end] - cdf_logw[1:end-1]\n",
    "p_vec = pdf_logw ./ sum(pdf_logw)\n",
    "w_vec = (w_vec[1:end-1] + w_vec[2:end]) / 2\n",
    "\n",
    "\"\"\"\n",
    "Compute the reservation wage, job finding rate and value functions of the\n",
    "workers given c and τ.\n",
    "\n",
    "\"\"\"\n",
    "function compute_optimal_quantities(c::AbstractFloat, τ::AbstractFloat)\n",
    "    mcm = McCallModel(α_q,\n",
    "                      β,\n",
    "                      γ,\n",
    "                      c-τ,                # post-tax compensation\n",
    "                      σ,\n",
    "                      collect(w_vec-τ),  # post-tax wages\n",
    "                      p_vec)\n",
    "\n",
    "\n",
    "    w_bar, V, U = compute_reservation_wage(mcm, return_values=true)\n",
    "    λ = γ * sum(p_vec[w_vec - τ .> w_bar])\n",
    "\n",
    "    return w_bar, λ, V, U\n",
    "end\n",
    "\n",
    "\"\"\"\n",
    "Compute the steady state unemployment rate given c and tau using optimal\n",
    "quantities from the McCall model and computing corresponding steady state\n",
    "quantities\n",
    "\n",
    "\"\"\"\n",
    "function compute_steady_state_quantities(c::AbstractFloat, τ::AbstractFloat)\n",
    "    w_bar, λ_param, V, U = compute_optimal_quantities(c, τ)\n",
    "\n",
    "    # Compute steady state employment and unemployment rates\n",
    "    lm = LakeModel(λ=λ_param, α=α_q, b=b_param, d=d_param)\n",
    "    x = rate_steady_state(lm)\n",
    "    u_rate, e_rate = x\n",
    "\n",
    "    # Compute steady state welfare\n",
    "    w = sum(V .* p_vec .* (w_vec - τ .> w_bar)) / sum(p_vec .* (w_vec - τ .> w_bar))\n",
    "    welfare = e_rate .* w + u_rate .* U\n",
    "\n",
    "    return u_rate, e_rate, welfare\n",
    "end\n",
    "\n",
    "\"\"\"\n",
    "Find tax level that will induce a balanced budget.\n",
    "\n",
    "\"\"\"\n",
    "function find_balanced_budget_tax(c::Real)\n",
    "    function steady_state_budget(t::Real)\n",
    "      u_rate, e_rate, w = compute_steady_state_quantities(c, t)\n",
    "      return t - u_rate * c\n",
    "    end\n",
    "\n",
    "    τ = brent(steady_state_budget, 0.0, 0.9 * c)\n",
    "\n",
    "    return τ\n",
    "end\n",
    "\n",
    "# Levels of unemployment insurance we wish to study\n",
    "Nc = 60\n",
    "c_vec = linspace(5.0, 140.0, Nc)\n",
    "\n",
    "tax_vec = Vector{Float64}(Nc)\n",
    "unempl_vec = Vector{Float64}(Nc)\n",
    "empl_vec = Vector{Float64}(Nc)\n",
    "welfare_vec = Vector{Float64}(Nc)\n",
    "\n",
    "for i = 1:Nc\n",
    "    t = find_balanced_budget_tax(c_vec[i])\n",
    "    u_rate, e_rate, welfare = compute_steady_state_quantities(c_vec[i], t)\n",
    "    tax_vec[i] = t\n",
    "    unempl_vec[i] = u_rate\n",
    "    empl_vec[i] = e_rate\n",
    "    welfare_vec[i] = welfare\n",
    "end\n",
    "\n",
    "fig, axes = subplots(2, 2, figsize=(15, 10))\n",
    "\n",
    "plots = [unempl_vec, empl_vec, tax_vec, welfare_vec]\n",
    "titles = [\"Unemployment\", \"Employment\", \"Tax\", \"Welfare\"]\n",
    "\n",
    "for (ax, plot, title) in zip(axes, plots, titles)\n",
    "    ax[:plot](c_vec, plot, \"b-\", lw=2, alpha=0.7)\n",
    "    ax[:set](title=title)\n",
    "end\n",
    "\n",
    "fig[:tight_layout]()"
   ]
  },
  {
   "cell_type": "code",
   "execution_count": null,
   "metadata": {},
   "outputs": [],
   "source": [
    "lm = LakeModel()\n",
    "x0 = rate_steady_state(lm)\n",
    "println(\"Initial Steady State: $x0\")"
   ]
  },
  {
   "cell_type": "markdown",
   "metadata": {},
   "source": [
    "```none\n",
    "Initial Steady State: [0.0826681, 0.917332]\n",
    "```\n"
   ]
  },
  {
   "cell_type": "code",
   "execution_count": null,
   "metadata": {},
   "outputs": [],
   "source": [
    "N0 = 100\n",
    "T = 50"
   ]
  },
  {
   "cell_type": "code",
   "execution_count": null,
   "metadata": {},
   "outputs": [],
   "source": [
    "lm = LakeModel(λ = 0.2)"
   ]
  },
  {
   "cell_type": "markdown",
   "metadata": {},
   "source": [
    "```none\n",
    "LakeModel{Float64}(0.2, 0.013, 0.0124, 0.00822, 0.00418, [0.805824 0.0252931; 0.198356 0.978887], [0.80247 0.0251879; 0.19753 0.974812])\n",
    "```\n"
   ]
  },
  {
   "cell_type": "code",
   "execution_count": null,
   "metadata": {},
   "outputs": [],
   "source": [
    "xbar = rate_steady_state(lm) # new steady state\n",
    "X_path = simulate_stock_path(lm,x0 * N0, T)\n",
    "x_path = simulate_rate_path(lm,x0, T)\n",
    "println(\"New Steady State: $xbar\")"
   ]
  },
  {
   "cell_type": "markdown",
   "metadata": {},
   "source": [
    "```none\n",
    "New Steady State: [0.113096, 0.886904]\n",
    "```\n"
   ]
  },
  {
   "cell_type": "code",
   "execution_count": null,
   "metadata": {},
   "outputs": [],
   "source": [
    "titles = [\"Unemployment\" \"Employment\" \"Labor force\"]\n",
    "\n",
    "x1 = X_path[1, :]\n",
    "x2 = X_path[2, :]\n",
    "x3 = squeeze(sum(X_path, 1), 1)\n",
    "\n",
    "fig, axes = subplots(3, 1, figsize=(10, 8))\n",
    "\n",
    "for (ax, x, title) in zip(axes, [x1, x2, x3], titles)\n",
    "    ax[:plot](1:T, x, c=\"blue\")\n",
    "    ax[:set](title=title)\n",
    "end\n",
    "\n",
    "fig[:tight_layout]()"
   ]
  },
  {
   "cell_type": "code",
   "execution_count": null,
   "metadata": {},
   "outputs": [],
   "source": [
    "titles = [\"Unemployment rate\" \"Employment rate\"]\n",
    "\n",
    "fig, axes = subplots(2, 1, figsize=(10, 8))\n",
    "\n",
    "for (i, ax) in enumerate(axes)\n",
    "    ax[:plot](1:T, x_path[i, :], c=\"blue\", lw=2, alpha=0.5)\n",
    "    ax[:hlines](xbar[i], 0, T, \"r\", \"--\")\n",
    "    ax[:set](title=titles[i])\n",
    "end"
   ]
  },
  {
   "cell_type": "code",
   "execution_count": null,
   "metadata": {},
   "outputs": [],
   "source": [
    "lm = LakeModel()\n",
    "x0 = rate_steady_state(lm)"
   ]
  },
  {
   "cell_type": "markdown",
   "metadata": {},
   "source": [
    "```none\n",
    "2-element Array{Float64,1}:\n",
    " 0.0826681\n",
    " 0.917332\n",
    "```\n"
   ]
  },
  {
   "cell_type": "code",
   "execution_count": null,
   "metadata": {},
   "outputs": [],
   "source": [
    "b_hat = 0.003\n",
    "T_hat = 20"
   ]
  },
  {
   "cell_type": "code",
   "execution_count": null,
   "metadata": {},
   "outputs": [],
   "source": [
    "lm = LakeModel(b=b_hat)\n",
    "X_path1 = simulate_stock_path(lm,x0 * N0, T_hat) # simulate stocks\n",
    "x_path1 = simulate_rate_path(lm,x0, T_hat) # simulate rates"
   ]
  },
  {
   "cell_type": "markdown",
   "metadata": {},
   "source": [
    "```none\n",
    "2×20 Array{Float64,2}:\n",
    " 0.0826681  0.0739993  0.067915  …  0.0536612  0.0536401  0.0536253\n",
    " 0.917332   0.926001   0.932085     0.946339   0.94636    0.946375\n",
    "```\n"
   ]
  },
  {
   "cell_type": "code",
   "execution_count": null,
   "metadata": {},
   "outputs": [],
   "source": [
    "lm = LakeModel(b=0.0124)\n",
    "X_path2 = simulate_stock_path(lm, X_path1[:, end-1], T-T_hat+1) # simulate stocks\n",
    "x_path2 = simulate_rate_path(lm, x_path1[:, end-1], T-T_hat+1) # simulate rates"
   ]
  },
  {
   "cell_type": "markdown",
   "metadata": {},
   "source": [
    "```none\n",
    "2×31 Array{Float64,2}:\n",
    " 0.0536401  0.0624842  0.0686335  …  0.0826652  0.0826655  0.0826657\n",
    " 0.94636    0.937516   0.931366      0.917335   0.917335   0.917334\n",
    "```\n"
   ]
  },
  {
   "cell_type": "code",
   "execution_count": null,
   "metadata": {},
   "outputs": [],
   "source": [
    "x_path = hcat(x_path1, x_path2[:, 2:end]) # note [2:] to avoid doubling period 20\n",
    "X_path = hcat(X_path1, X_path2[:, 2:end])"
   ]
  },
  {
   "cell_type": "markdown",
   "metadata": {},
   "source": [
    "```none\n",
    "2×50 Array{Float64,2}:\n",
    " 8.26681   7.36131   6.72078   6.2653  …   8.45538   8.49076   8.52628\n",
    " 91.7332   92.1167   92.2379   92.1769     93.8293   94.2215   94.6153\n",
    "```\n"
   ]
  },
  {
   "cell_type": "code",
   "execution_count": null,
   "metadata": {},
   "outputs": [],
   "source": [
    "titles = [\"Unemployment\" \"Employment\" \"Labor force\"]\n",
    "\n",
    "x1 = X_path[1,:]\n",
    "x2 = X_path[2,:]\n",
    "x3 = squeeze(sum(X_path, 1), 1)\n",
    "\n",
    "fig, axes = subplots(3, 1, figsize=(10, 9))\n",
    "\n",
    "for (ax, x, title) in zip(axes, [x1, x2, x3], titles)\n",
    "    ax[:plot](1:T, x, \"b-\", lw=2, alpha=0.7)\n",
    "    ax[:set](title=title, ylim=(minimum(x-1), maximum(x+1)))\n",
    "end\n",
    "\n",
    "fig[:tight_layout]()"
   ]
  },
  {
   "cell_type": "code",
   "execution_count": null,
   "metadata": {},
   "outputs": [],
   "source": [
    "titles = [\"Unemployment Rate\" \"Employment Rate\"]\n",
    "\n",
    "fig, axes = subplots(2, 1, figsize=(10, 8))\n",
    "\n",
    "for (i, ax) in enumerate(axes)\n",
    "    ax[:plot](1:T, x_path[i, :], \"-b\", lw=2, alpha=0.7)\n",
    "    ax[:hlines](x0[i], 0, T, \"r\", \"--\")\n",
    "    ax[:set](title=titles[i])\n",
    "end"
   ]
  }
 ],
 "metadata": {
  "kernelspec": {
   "display_name": "Julia 0.6.2",
   "language": "julia",
   "name": "julia-0.6"
  },
  "language_info": {
   "file_extension": ".jl",
   "mimetype": "application/julia",
   "name": "julia",
   "version": "0.6.2"
  }
 },
 "nbformat": 4,
 "nbformat_minor": 2
}
