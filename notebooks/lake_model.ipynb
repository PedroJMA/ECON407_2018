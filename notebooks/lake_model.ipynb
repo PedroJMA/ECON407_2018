{
 "cells": [
  {
   "cell_type": "markdown",
   "metadata": {},
   "source": [
    "Modified from \n",
    "https://lectures.quantecon.org/jl/lake_model.html"
   ]
  },
  {
   "cell_type": "markdown",
   "metadata": {},
   "source": [
    "# Some utility functions\n",
    "These will be added to libraries in the future, so no needto understand the details"
   ]
  },
  {
   "cell_type": "code",
   "execution_count": 1,
   "metadata": {},
   "outputs": [
    {
     "data": {
      "text/plain": [
       "@with_kw (macro with 1 method)"
      ]
     },
     "execution_count": 1,
     "metadata": {},
     "output_type": "execute_result"
    }
   ],
   "source": [
    "using Parameters, NamedTuples, MacroTools\n",
    "\n",
    "#Finds the fixed point of an operator.  This will be replaced by the NLsolve.jl based on at some point when it is functional.\n",
    "function fixedpoint(f, x0; tol = 1E-10, maxiter=100)\n",
    "    residual = Inf\n",
    "    iter = 1\n",
    "    xold = x0\n",
    "    while residual > tol && iter < maxiter\n",
    "        xnew = f(xold)        \n",
    "        residual = norm(xold - xnew);\n",
    "        xold = xnew\n",
    "        iter += 1\n",
    "    end\n",
    "    return xold\n",
    "end\n",
    "\n",
    "#Generator for tuples with keyw\n",
    "macro with_kw(args...)\n",
    "    splits = map(args) do arg\n",
    "        @match arg begin\n",
    "            (a_ = b_) => (a, b)\n",
    "            any_ => error(\"All arguments must be assignments\")\n",
    "        end\n",
    "    end\n",
    "    esc(:(\n",
    "        (;$(map(splits) do pair\n",
    "            Expr(:kw, pair[1], pair[2])\n",
    "        end...),) -> \n",
    "        $NamedTuples.@NT($(map(splits) do pair\n",
    "            Expr(:kw, pair[1], pair[1])\n",
    "        end...))\n",
    "    ))\n",
    "end\n"
   ]
  },
  {
   "cell_type": "code",
   "execution_count": 2,
   "metadata": {},
   "outputs": [
    {
     "data": {
      "text/plain": [
       "lakemodel_transitions (generic function with 1 method)"
      ]
     },
     "execution_count": 2,
     "metadata": {},
     "output_type": "execute_result"
    }
   ],
   "source": [
    "using QuantEcon\n",
    "#Returns a generator to create named tuples with default parameters for anything not overwritten\n",
    "#e.g. lm_defaults() # returns all defaults\n",
    "#     lm_defaults(b = 0.02) #returns defaults except for b\n",
    "lm_defaults = @with_kw(λ=0.283, α=0.013,b=0.0124, d=0.00822);\n",
    "\n",
    "#Calculate transition matrices\n",
    "function lakemodel_transitions(lm)\n",
    "    @unpack λ, α , b, d = lm\n",
    "    g = b - d\n",
    "    A = [(1-λ) * (1-d) + b  (1-d) * α + b;\n",
    "         (1-d) * λ          (1-d) * (1-α)]\n",
    "    A_hat = A ./ (1 + g)\n",
    "    return A, A_hat\n",
    "end\n"
   ]
  },
  {
   "cell_type": "markdown",
   "metadata": {},
   "source": [
    "## Calculations using the A and A_hat\n",
    "Here, we show an alternative method to calculate each, for a different style"
   ]
  },
  {
   "cell_type": "code",
   "execution_count": 3,
   "metadata": {},
   "outputs": [
    {
     "data": {
      "text/plain": [
       "simulate_rate_path_alt (generic function with 1 method)"
      ]
     },
     "execution_count": 3,
     "metadata": {},
     "output_type": "execute_result"
    }
   ],
   "source": [
    "\n",
    "#To calculate the steady state, iterate or use the markov chain A_hat\n",
    "rate_steady_state(A_hat) = fixedpoint(x -> A_hat * x, [1.0; 0.0]) #Iterate the fixed point.  No absorbing states, so initial condition does not matter\n",
    "rate_steady_state_alt(A_hat) = stationary_distributions( MarkovChain(A_hat')) #Alternatively, it is the stationary_distribution of the A_hat' markov chain\n",
    "\n",
    "function simulate_rate_path(A_hat, x0, T)\n",
    "    @assert sum(x0) ≈ 1 #Otherwise not valid PDF\n",
    "    \n",
    "    x_path = similar(x0, 2, T)\n",
    "    x = copy(x0)\n",
    "    for t in 1:T\n",
    "        x_path[:, t] = x\n",
    "        x = A_hat * x\n",
    "    end\n",
    "    return x_path\n",
    "end\n",
    "\n",
    "simulate_rate_path_alt(A_hat, x0, T) = [A_hat^j * x0 for j=0:(T-1) ]"
   ]
  },
  {
   "cell_type": "code",
   "execution_count": 14,
   "metadata": {},
   "outputs": [
    {
     "name": "stdout",
     "output_type": "stream",
     "text": [
      "xbar = rate_steady_state(A_hat) = [0.0826663, 0.917334]\n"
     ]
    },
    {
     "data": {
      "image/svg+xml": [
       "<?xml version=\"1.0\" encoding=\"utf-8\"?>\n",
       "<svg xmlns=\"http://www.w3.org/2000/svg\" xmlns:xlink=\"http://www.w3.org/1999/xlink\" width=\"600\" height=\"400\" viewBox=\"0 0 600 400\">\n",
       "<defs>\n",
       "  <clipPath id=\"clip9500\">\n",
       "    <rect x=\"0\" y=\"0\" width=\"600\" height=\"400\"/>\n",
       "  </clipPath>\n",
       "</defs>\n",
       "<polygon clip-path=\"url(#clip9500)\" points=\"\n",
       "0,400 600,400 600,0 0,0 \n",
       "  \" fill=\"#ffffff\" fill-opacity=\"1\"/>\n",
       "<defs>\n",
       "  <clipPath id=\"clip9501\">\n",
       "    <rect x=\"120\" y=\"0\" width=\"421\" height=\"400\"/>\n",
       "  </clipPath>\n",
       "</defs>\n",
       "<polygon clip-path=\"url(#clip9500)\" points=\"\n",
       "48.2225,360.121 580.315,360.121 580.315,11.811 48.2225,11.811 \n",
       "  \" fill=\"#ffffff\" fill-opacity=\"1\"/>\n",
       "<defs>\n",
       "  <clipPath id=\"clip9502\">\n",
       "    <rect x=\"48\" y=\"11\" width=\"533\" height=\"349\"/>\n",
       "  </clipPath>\n",
       "</defs>\n",
       "<polyline clip-path=\"url(#clip9502)\" style=\"stroke:#000000; stroke-width:0.5; stroke-opacity:0.1; fill:none\" points=\"\n",
       "  48.2225,360.121 48.2225,11.811 \n",
       "  \"/>\n",
       "<polyline clip-path=\"url(#clip9502)\" style=\"stroke:#000000; stroke-width:0.5; stroke-opacity:0.1; fill:none\" points=\"\n",
       "  188.247,360.121 188.247,11.811 \n",
       "  \"/>\n",
       "<polyline clip-path=\"url(#clip9502)\" style=\"stroke:#000000; stroke-width:0.5; stroke-opacity:0.1; fill:none\" points=\"\n",
       "  328.271,360.121 328.271,11.811 \n",
       "  \"/>\n",
       "<polyline clip-path=\"url(#clip9502)\" style=\"stroke:#000000; stroke-width:0.5; stroke-opacity:0.1; fill:none\" points=\"\n",
       "  468.296,360.121 468.296,11.811 \n",
       "  \"/>\n",
       "<polyline clip-path=\"url(#clip9502)\" style=\"stroke:#000000; stroke-width:0.5; stroke-opacity:0.1; fill:none\" points=\"\n",
       "  48.2225,311.177 580.315,311.177 \n",
       "  \"/>\n",
       "<polyline clip-path=\"url(#clip9502)\" style=\"stroke:#000000; stroke-width:0.5; stroke-opacity:0.1; fill:none\" points=\"\n",
       "  48.2225,227.703 580.315,227.703 \n",
       "  \"/>\n",
       "<polyline clip-path=\"url(#clip9502)\" style=\"stroke:#000000; stroke-width:0.5; stroke-opacity:0.1; fill:none\" points=\"\n",
       "  48.2225,144.229 580.315,144.229 \n",
       "  \"/>\n",
       "<polyline clip-path=\"url(#clip9502)\" style=\"stroke:#000000; stroke-width:0.5; stroke-opacity:0.1; fill:none\" points=\"\n",
       "  48.2225,60.7545 580.315,60.7545 \n",
       "  \"/>\n",
       "<polyline clip-path=\"url(#clip9500)\" style=\"stroke:#000000; stroke-width:1; stroke-opacity:1; fill:none\" points=\"\n",
       "  48.2225,360.121 580.315,360.121 \n",
       "  \"/>\n",
       "<polyline clip-path=\"url(#clip9500)\" style=\"stroke:#000000; stroke-width:1; stroke-opacity:1; fill:none\" points=\"\n",
       "  48.2225,360.121 48.2225,11.811 \n",
       "  \"/>\n",
       "<polyline clip-path=\"url(#clip9500)\" style=\"stroke:#000000; stroke-width:1; stroke-opacity:1; fill:none\" points=\"\n",
       "  48.2225,360.121 48.2225,354.896 \n",
       "  \"/>\n",
       "<polyline clip-path=\"url(#clip9500)\" style=\"stroke:#000000; stroke-width:1; stroke-opacity:1; fill:none\" points=\"\n",
       "  188.247,360.121 188.247,354.896 \n",
       "  \"/>\n",
       "<polyline clip-path=\"url(#clip9500)\" style=\"stroke:#000000; stroke-width:1; stroke-opacity:1; fill:none\" points=\"\n",
       "  328.271,360.121 328.271,354.896 \n",
       "  \"/>\n",
       "<polyline clip-path=\"url(#clip9500)\" style=\"stroke:#000000; stroke-width:1; stroke-opacity:1; fill:none\" points=\"\n",
       "  468.296,360.121 468.296,354.896 \n",
       "  \"/>\n",
       "<polyline clip-path=\"url(#clip9500)\" style=\"stroke:#000000; stroke-width:1; stroke-opacity:1; fill:none\" points=\"\n",
       "  48.2225,311.177 56.2039,311.177 \n",
       "  \"/>\n",
       "<polyline clip-path=\"url(#clip9500)\" style=\"stroke:#000000; stroke-width:1; stroke-opacity:1; fill:none\" points=\"\n",
       "  48.2225,227.703 56.2039,227.703 \n",
       "  \"/>\n",
       "<polyline clip-path=\"url(#clip9500)\" style=\"stroke:#000000; stroke-width:1; stroke-opacity:1; fill:none\" points=\"\n",
       "  48.2225,144.229 56.2039,144.229 \n",
       "  \"/>\n",
       "<polyline clip-path=\"url(#clip9500)\" style=\"stroke:#000000; stroke-width:1; stroke-opacity:1; fill:none\" points=\"\n",
       "  48.2225,60.7545 56.2039,60.7545 \n",
       "  \"/>\n",
       "<g clip-path=\"url(#clip9500)\">\n",
       "<text style=\"fill:#000000; fill-opacity:1; font-family:Arial,Helvetica Neue,Helvetica,sans-serif; font-size:12; text-anchor:middle;\" transform=\"rotate(0, 48.2225, 373.921)\" x=\"48.2225\" y=\"373.921\">0</text>\n",
       "</g>\n",
       "<g clip-path=\"url(#clip9500)\">\n",
       "<text style=\"fill:#000000; fill-opacity:1; font-family:Arial,Helvetica Neue,Helvetica,sans-serif; font-size:12; text-anchor:middle;\" transform=\"rotate(0, 188.247, 373.921)\" x=\"188.247\" y=\"373.921\">5</text>\n",
       "</g>\n",
       "<g clip-path=\"url(#clip9500)\">\n",
       "<text style=\"fill:#000000; fill-opacity:1; font-family:Arial,Helvetica Neue,Helvetica,sans-serif; font-size:12; text-anchor:middle;\" transform=\"rotate(0, 328.271, 373.921)\" x=\"328.271\" y=\"373.921\">10</text>\n",
       "</g>\n",
       "<g clip-path=\"url(#clip9500)\">\n",
       "<text style=\"fill:#000000; fill-opacity:1; font-family:Arial,Helvetica Neue,Helvetica,sans-serif; font-size:12; text-anchor:middle;\" transform=\"rotate(0, 468.296, 373.921)\" x=\"468.296\" y=\"373.921\">15</text>\n",
       "</g>\n",
       "<g clip-path=\"url(#clip9500)\">\n",
       "<text style=\"fill:#000000; fill-opacity:1; font-family:Arial,Helvetica Neue,Helvetica,sans-serif; font-size:12; text-anchor:end;\" transform=\"rotate(0, 42.2225, 315.677)\" x=\"42.2225\" y=\"315.677\">0.2</text>\n",
       "</g>\n",
       "<g clip-path=\"url(#clip9500)\">\n",
       "<text style=\"fill:#000000; fill-opacity:1; font-family:Arial,Helvetica Neue,Helvetica,sans-serif; font-size:12; text-anchor:end;\" transform=\"rotate(0, 42.2225, 232.203)\" x=\"42.2225\" y=\"232.203\">0.4</text>\n",
       "</g>\n",
       "<g clip-path=\"url(#clip9500)\">\n",
       "<text style=\"fill:#000000; fill-opacity:1; font-family:Arial,Helvetica Neue,Helvetica,sans-serif; font-size:12; text-anchor:end;\" transform=\"rotate(0, 42.2225, 148.729)\" x=\"42.2225\" y=\"148.729\">0.6</text>\n",
       "</g>\n",
       "<g clip-path=\"url(#clip9500)\">\n",
       "<text style=\"fill:#000000; fill-opacity:1; font-family:Arial,Helvetica Neue,Helvetica,sans-serif; font-size:12; text-anchor:end;\" transform=\"rotate(0, 42.2225, 65.2545)\" x=\"42.2225\" y=\"65.2545\">0.8</text>\n",
       "</g>\n",
       "<g clip-path=\"url(#clip9500)\">\n",
       "<text style=\"fill:#000000; fill-opacity:1; font-family:Arial,Helvetica Neue,Helvetica,sans-serif; font-size:16; text-anchor:middle;\" transform=\"rotate(0, 314.269, 397.6)\" x=\"314.269\" y=\"397.6\">t</text>\n",
       "</g>\n",
       "<g clip-path=\"url(#clip9500)\">\n",
       "<text style=\"fill:#000000; fill-opacity:1; font-family:Arial,Helvetica Neue,Helvetica,sans-serif; font-size:16; text-anchor:middle;\" transform=\"rotate(-90, 14.4, 185.966)\" x=\"14.4\" y=\"185.966\">Employment</text>\n",
       "</g>\n",
       "<polyline clip-path=\"url(#clip9502)\" style=\"stroke:#009af9; stroke-width:1; stroke-opacity:1; fill:none\" points=\"\n",
       "  48.2225,332.046 76.2274,340.609 104.232,346.562 132.237,350.702 160.242,353.58 188.247,355.582 216.252,356.973 244.257,357.941 272.261,358.614 300.266,359.081 \n",
       "  328.271,359.407 356.276,359.633 384.281,359.79 412.286,359.899 440.291,359.975 468.296,360.028 496.3,360.065 524.305,360.091 552.31,360.108 580.315,360.121 \n",
       "  \n",
       "  \"/>\n",
       "<polyline clip-path=\"url(#clip9502)\" style=\"stroke:#e26f46; stroke-width:1; stroke-opacity:1; fill:none\" points=\"\n",
       "  48.2225,39.886 76.2274,31.3231 104.232,25.3693 132.237,21.2296 160.242,18.3512 188.247,16.3499 216.252,14.9583 244.257,13.9908 272.261,13.318 300.266,12.8503 \n",
       "  328.271,12.525 356.276,12.2989 384.281,12.1416 412.286,12.0323 440.291,11.9563 468.296,11.9034 496.3,11.8667 524.305,11.8411 552.31,11.8234 580.315,11.811 \n",
       "  \n",
       "  \"/>\n",
       "<polygon clip-path=\"url(#clip9500)\" points=\"\n",
       "489.608,78.051 562.315,78.051 562.315,32.691 489.608,32.691 \n",
       "  \" fill=\"#ffffff\" fill-opacity=\"1\"/>\n",
       "<polyline clip-path=\"url(#clip9500)\" style=\"stroke:#000000; stroke-width:1; stroke-opacity:1; fill:none\" points=\"\n",
       "  489.608,78.051 562.315,78.051 562.315,32.691 489.608,32.691 489.608,78.051 \n",
       "  \"/>\n",
       "<polyline clip-path=\"url(#clip9500)\" style=\"stroke:#009af9; stroke-width:1; stroke-opacity:1; fill:none\" points=\"\n",
       "  495.608,47.811 531.608,47.811 \n",
       "  \"/>\n",
       "<g clip-path=\"url(#clip9500)\">\n",
       "<text style=\"fill:#000000; fill-opacity:1; font-family:Arial,Helvetica Neue,Helvetica,sans-serif; font-size:12; text-anchor:start;\" transform=\"rotate(0, 537.608, 52.311)\" x=\"537.608\" y=\"52.311\">y1</text>\n",
       "</g>\n",
       "<polyline clip-path=\"url(#clip9500)\" style=\"stroke:#e26f46; stroke-width:1; stroke-opacity:1; fill:none\" points=\"\n",
       "  495.608,62.931 531.608,62.931 \n",
       "  \"/>\n",
       "<g clip-path=\"url(#clip9500)\">\n",
       "<text style=\"fill:#000000; fill-opacity:1; font-family:Arial,Helvetica Neue,Helvetica,sans-serif; font-size:12; text-anchor:start;\" transform=\"rotate(0, 537.608, 67.431)\" x=\"537.608\" y=\"67.431\">y2</text>\n",
       "</g>\n",
       "</svg>\n"
      ]
     },
     "execution_count": 14,
     "metadata": {},
     "output_type": "execute_result"
    }
   ],
   "source": [
    "using Plots\n",
    "lm = lm_defaults()\n",
    "A, A_hat = lakemodel_transitions(lm)\n",
    "\n",
    "#Calculate the steady state\n",
    "@show xbar = rate_steady_state(A_hat)\n",
    "\n",
    "#Simulate\n",
    "x0 = [0.15; 0.85]\n",
    "T= 20\n",
    "@assert sum(x0) ≈ 1 #otherwise, it is not a proper pdf\n",
    "\n",
    "rates = simulate_rate_path(A_hat, x0, T)\n",
    "plot(0:T-1, rates[1,:], xlabel=\"t\", ylabel=\"Unemployment\")\n",
    "plot!(0:T-1, rates[2,:], xlabel=\"t\", ylabel=\"Employment\")"
   ]
  },
  {
   "cell_type": "code",
   "execution_count": 86,
   "metadata": {},
   "outputs": [
    {
     "name": "stderr",
     "output_type": "stream",
     "text": [
      "\u001b[1m\u001b[33mWARNING: \u001b[39m\u001b[22m\u001b[33mpdf(d::DiscreteUnivariateDistribution) is deprecated, use pdf.(d, support(d)) instead.\u001b[39m\n",
      "Stacktrace:\n",
      " [1] \u001b[1mdepwarn\u001b[22m\u001b[22m\u001b[1m(\u001b[22m\u001b[22m::String, ::Symbol\u001b[1m)\u001b[22m\u001b[22m at \u001b[1m.\\deprecated.jl:70\u001b[22m\u001b[22m\n",
      " [2] \u001b[1mpdf\u001b[22m\u001b[22m\u001b[1m(\u001b[22m\u001b[22m::Distributions.BetaBinomial{Float64}\u001b[1m)\u001b[22m\u001b[22m at \u001b[1m.\\deprecated.jl:57\u001b[22m\u001b[22m\n",
      " [3] \u001b[1minclude_string\u001b[22m\u001b[22m\u001b[1m(\u001b[22m\u001b[22m::String, ::String\u001b[1m)\u001b[22m\u001b[22m at \u001b[1m.\\loading.jl:522\u001b[22m\u001b[22m\n",
      " [4] \u001b[1minclude_string\u001b[22m\u001b[22m\u001b[1m(\u001b[22m\u001b[22m::Module, ::String, ::String\u001b[1m)\u001b[22m\u001b[22m at \u001b[1mC:\\Users\\jlperla\\.julia\\v0.6\\Compat\\src\\Compat.jl:71\u001b[22m\u001b[22m\n",
      " [5] \u001b[1mexecute_request\u001b[22m\u001b[22m\u001b[1m(\u001b[22m\u001b[22m::ZMQ.Socket, ::IJulia.Msg\u001b[1m)\u001b[22m\u001b[22m at \u001b[1mC:\\Users\\jlperla\\.julia\\v0.6\\IJulia\\src\\execute_request.jl:158\u001b[22m\u001b[22m\n",
      " [6] \u001b[1m(::Compat.#inner#17{Array{Any,1},IJulia.#execute_request,Tuple{ZMQ.Socket,IJulia.Msg}})\u001b[22m\u001b[22m\u001b[1m(\u001b[22m\u001b[22m\u001b[1m)\u001b[22m\u001b[22m at \u001b[1mC:\\Users\\jlperla\\.julia\\v0.6\\Compat\\src\\Compat.jl:385\u001b[22m\u001b[22m\n",
      " [7] \u001b[1meventloop\u001b[22m\u001b[22m\u001b[1m(\u001b[22m\u001b[22m::ZMQ.Socket\u001b[1m)\u001b[22m\u001b[22m at \u001b[1mC:\\Users\\jlperla\\.julia\\v0.6\\IJulia\\src\\eventloop.jl:8\u001b[22m\u001b[22m\n",
      " [8] \u001b[1m(::IJulia.##14#17)\u001b[22m\u001b[22m\u001b[1m(\u001b[22m\u001b[22m\u001b[1m)\u001b[22m\u001b[22m at \u001b[1m.\\task.jl:335\u001b[22m\u001b[22m\n",
      "while loading In[86], in expression starting on line 19\n"
     ]
    },
    {
     "data": {
      "text/plain": [
       "solve_mccall_model (generic function with 1 method)"
      ]
     },
     "execution_count": 86,
     "metadata": {},
     "output_type": "execute_result"
    }
   ],
   "source": [
    "using Distributions\n",
    "\n",
    "# A default utility function\n",
    "\n",
    "function u(c::Real, σ::Real)\n",
    "    if c > 0\n",
    "        return (c^(1 - σ) - 1) / (1 - σ)\n",
    "    else\n",
    "        return -10e6\n",
    "    end\n",
    "end\n",
    "\n",
    "# default wage vector with probabilities\n",
    "\n",
    "const n = 60                                   # n possible outcomes for wage\n",
    "const default_w_vec = linspace(10, 20, n)   # wages between 10 and 20\n",
    "const a, b = 600, 400                          # shape parameters\n",
    "const dist = BetaBinomial(n-1, a, b)\n",
    "const default_p_vec = pdf(dist)\n",
    "\n",
    "mutable struct McCallModel{TF <: AbstractFloat,\n",
    "                           TAV <: AbstractVector{TF},\n",
    "                           TAV2 <: AbstractVector{TF}}\n",
    "    α::TF        # Job separation rate\n",
    "    β::TF         # Discount rate\n",
    "    γ::TF        # Job offer rate\n",
    "    c::TF            # Unemployment compensation\n",
    "    σ::TF        # Utility parameter\n",
    "    w_vec::TAV # Possible wage values\n",
    "    p_vec::TAV2 # Probabilities over w_vec\n",
    "\n",
    "    McCallModel(α::TF=0.2,\n",
    "                β::TF=0.98,\n",
    "                γ::TF=0.7,\n",
    "                c::TF=6.0,\n",
    "                σ::TF=2.0,\n",
    "                w_vec::TAV=default_w_vec,\n",
    "                p_vec::TAV2=default_p_vec) where {TF, TAV, TAV2} =\n",
    "        new{TF, TAV, TAV2}(α, β, γ, c, σ, w_vec, p_vec)\n",
    "end\n",
    "\n",
    "\"\"\"\n",
    "A function to update the Bellman equations.  Note that V_new is modified in\n",
    "place (i.e, modified by this function).  The new value of U is returned.\n",
    "\n",
    "\"\"\"\n",
    "function update_bellman!(mcm::McCallModel, V::AbstractVector,\n",
    "                         V_new::AbstractVector, U::Real)\n",
    "    # Simplify notation\n",
    "    α, β, σ, c, γ = mcm.α, mcm.β, mcm.σ, mcm.c, mcm.γ\n",
    "\n",
    "    for (w_idx, w) in enumerate(mcm.w_vec)\n",
    "        # w_idx indexes the vector of possible wages\n",
    "        V_new[w_idx] = u(w, σ) + β * ((1 - α) * V[w_idx] + α * U)\n",
    "    end\n",
    "\n",
    "    U_new = u(c, σ) + β * (1 - γ) * U +\n",
    "                    β * γ * dot(max.(U, V), mcm.p_vec)\n",
    "\n",
    "    return U_new\n",
    "end\n",
    "\n",
    "\n",
    "function solve_mccall_model(mcm::McCallModel;\n",
    "                            tol::AbstractFloat=1e-5, max_iter::Integer=2000)\n",
    "\n",
    "    V = ones(length(mcm.w_vec))  # Initial guess of V\n",
    "    V_new = similar(V)           # To store updates to V\n",
    "    U = 1.0                        # Initial guess of U\n",
    "    i = 0\n",
    "    error = tol + 1\n",
    "\n",
    "    while error > tol && i < max_iter\n",
    "        U_new = update_bellman!(mcm, V, V_new, U)\n",
    "        error_1 = maximum(abs, V_new - V)\n",
    "        error_2 = abs(U_new - U)\n",
    "        error = max(error_1, error_2)\n",
    "        V[:] = V_new\n",
    "        U = U_new\n",
    "        i += 1\n",
    "    end\n",
    "\n",
    "    return V, U\n",
    "end"
   ]
  },
  {
   "cell_type": "code",
   "execution_count": 87,
   "metadata": {},
   "outputs": [
    {
     "data": {
      "text/plain": [
       "compute_reservation_wage"
      ]
     },
     "execution_count": 87,
     "metadata": {},
     "output_type": "execute_result"
    }
   ],
   "source": [
    "\"\"\"\n",
    "Computes the reservation wage of an instance of the McCall model\n",
    "by finding the smallest w such that V(w) > U.\n",
    "\n",
    "If V(w) > U for all w, then the reservation wage w_bar is set to\n",
    "the lowest wage in mcm.w_vec.\n",
    "\n",
    "If v(w) < U for all w, then w_bar is set to np.inf.\n",
    "\n",
    "Parameters\n",
    "----------\n",
    "mcm : an instance of McCallModel\n",
    "return_values : bool (optional, default=false)\n",
    "    Return the value functions as well\n",
    "\n",
    "Returns\n",
    "-------\n",
    "w_bar : scalar\n",
    "    The reservation wage\n",
    "\n",
    "\"\"\"\n",
    "function compute_reservation_wage(mcm::McCallModel; return_values::Bool=false)\n",
    "\n",
    "    V, U = solve_mccall_model(mcm)\n",
    "    w_idx = searchsortedfirst(V - U, 0)\n",
    "\n",
    "    if w_idx == length(V)\n",
    "        w_bar = Inf\n",
    "    else\n",
    "        w_bar = mcm.w_vec[w_idx]\n",
    "    end\n",
    "\n",
    "    if return_values == false\n",
    "        return w_bar\n",
    "    else\n",
    "        return w_bar, V, U\n",
    "    end\n",
    "\n",
    "end"
   ]
  },
  {
   "cell_type": "code",
   "execution_count": 88,
   "metadata": {},
   "outputs": [
    {
     "ename": "LoadError",
     "evalue": "\u001b[91mMethodError: no method matching *(::LakeModel{Float64}, ::Array{Float64,1})\u001b[0m\nClosest candidates are:\n  *(::Any, ::Any, \u001b[91m::Any\u001b[39m, \u001b[91m::Any...\u001b[39m) at operators.jl:424\n  *(\u001b[91m::LightGraphs.LinAlg.Noop\u001b[39m, ::Any) at C:\\Users\\jlperla\\.julia\\v0.6\\LightGraphs\\src\\linalg\\./graphmatrices.jl:226\n  *(\u001b[91m::RowVector{T<:Real,CV} where CV<:(ConjArray{T,1,V} where V<:(AbstractArray{T,1} where T) where T)\u001b[39m, ::AbstractArray{T<:Real,1}) where T<:Real at linalg\\rowvector.jl:171\n  ...\u001b[39m",
     "output_type": "error",
     "traceback": [
      "\u001b[91mMethodError: no method matching *(::LakeModel{Float64}, ::Array{Float64,1})\u001b[0m\nClosest candidates are:\n  *(::Any, ::Any, \u001b[91m::Any\u001b[39m, \u001b[91m::Any...\u001b[39m) at operators.jl:424\n  *(\u001b[91m::LightGraphs.LinAlg.Noop\u001b[39m, ::Any) at C:\\Users\\jlperla\\.julia\\v0.6\\LightGraphs\\src\\linalg\\./graphmatrices.jl:226\n  *(\u001b[91m::RowVector{T<:Real,CV} where CV<:(ConjArray{T,1,V} where V<:(AbstractArray{T,1} where T) where T)\u001b[39m, ::AbstractArray{T<:Real,1}) where T<:Real at linalg\\rowvector.jl:171\n  ...\u001b[39m",
      "",
      "Stacktrace:",
      " [1] \u001b[1m#fixedpoint#10\u001b[22m\u001b[22m\u001b[1m(\u001b[22m\u001b[22m::Float64, ::Int64, ::Function, ::##20#21{LakeModel{Float64}}, ::Array{Float64,1}\u001b[1m)\u001b[22m\u001b[22m at \u001b[1m.\\In[2]:9\u001b[22m\u001b[22m",
      " [2] \u001b[1mcompute_steady_state_quantities\u001b[22m\u001b[22m\u001b[1m(\u001b[22m\u001b[22m::Float64, ::Float64\u001b[1m)\u001b[22m\u001b[22m at \u001b[1m.\\In[88]:51\u001b[22m\u001b[22m",
      " [3] \u001b[1m(::#steady_state_budget#167{Float64})\u001b[22m\u001b[22m\u001b[1m(\u001b[22m\u001b[22m::Float64\u001b[1m)\u001b[22m\u001b[22m at \u001b[1m.\\In[88]:67\u001b[22m\u001b[22m",
      " [4] \u001b[1m_brent_body\u001b[22m\u001b[22m\u001b[1m(\u001b[22m\u001b[22m::QuantEcon.BrentQuadratic, ::#steady_state_budget#167{Float64}, ::Float64, ::Float64, ::Int64, ::Float64, ::Float64\u001b[1m)\u001b[22m\u001b[22m at \u001b[1mC:\\Users\\jlperla\\.julia\\v0.6\\QuantEcon\\src\\zeros.jl:243\u001b[22m\u001b[22m",
      " [5] \u001b[1mfind_balanced_budget_tax\u001b[22m\u001b[22m\u001b[1m(\u001b[22m\u001b[22m::Float64\u001b[1m)\u001b[22m\u001b[22m at \u001b[1m.\\In[88]:71\u001b[22m\u001b[22m",
      " [6] \u001b[1mmacro expansion\u001b[22m\u001b[22m at \u001b[1m.\\In[88]:86\u001b[22m\u001b[22m [inlined]",
      " [7] \u001b[1manonymous\u001b[22m\u001b[22m at \u001b[1m.\\<missing>:?\u001b[22m\u001b[22m",
      " [8] \u001b[1minclude_string\u001b[22m\u001b[22m\u001b[1m(\u001b[22m\u001b[22m::String, ::String\u001b[1m)\u001b[22m\u001b[22m at \u001b[1m.\\loading.jl:522\u001b[22m\u001b[22m"
     ]
    }
   ],
   "source": [
    "# Some global variables that will stay constant\n",
    "α = 0.013\n",
    "α_q = (1-(1-α)^3)\n",
    "b_param = 0.0124\n",
    "d_param = 0.00822\n",
    "β = 0.98\n",
    "γ = 1.0\n",
    "σ = 2.0\n",
    "\n",
    "# The default wage distribution: a discretized log normal\n",
    "log_wage_mean, wage_grid_size, max_wage = 20, 200, 170\n",
    "w_vec = linspace(1e-3, max_wage, wage_grid_size + 1)\n",
    "logw_dist = Normal(log(log_wage_mean), 1)\n",
    "cdf_logw = cdf.(logw_dist, log.(w_vec))\n",
    "pdf_logw = cdf_logw[2:end] - cdf_logw[1:end-1]\n",
    "p_vec = pdf_logw ./ sum(pdf_logw)\n",
    "w_vec = (w_vec[1:end-1] + w_vec[2:end]) / 2\n",
    "\n",
    "\"\"\"\n",
    "Compute the reservation wage, job finding rate and value functions of the\n",
    "workers given c and τ.\n",
    "\n",
    "\"\"\"\n",
    "function compute_optimal_quantities(c::AbstractFloat, τ::AbstractFloat)\n",
    "    mcm = McCallModel(α_q,\n",
    "                      β,\n",
    "                      γ,\n",
    "                      c-τ,                # post-tax compensation\n",
    "                      σ,\n",
    "                      collect(w_vec-τ),  # post-tax wages\n",
    "                      p_vec)\n",
    "\n",
    "\n",
    "    w_bar, V, U = compute_reservation_wage(mcm, return_values=true)\n",
    "    λ = γ * sum(p_vec[w_vec - τ .> w_bar])\n",
    "\n",
    "    return w_bar, λ, V, U\n",
    "end\n",
    "\n",
    "\"\"\"\n",
    "Compute the steady state unemployment rate given c and tau using optimal\n",
    "quantities from the McCall model and computing corresponding steady state\n",
    "quantities\n",
    "\n",
    "\"\"\"\n",
    "function compute_steady_state_quantities(c::AbstractFloat, τ::AbstractFloat)\n",
    "    w_bar, λ_param, V, U = compute_optimal_quantities(c, τ)\n",
    "\n",
    "    # Compute steady state employment and unemployment rates\n",
    "    lm = LakeModel(λ=λ_param, α=α_q, b=b_param, d=d_param)\n",
    "    x = rate_steady_state(lm)\n",
    "    u_rate, e_rate = x\n",
    "\n",
    "    # Compute steady state welfare\n",
    "    w = sum(V .* p_vec .* (w_vec - τ .> w_bar)) / sum(p_vec .* (w_vec - τ .> w_bar))\n",
    "    welfare = e_rate .* w + u_rate .* U\n",
    "\n",
    "    return u_rate, e_rate, welfare\n",
    "end\n",
    "\n",
    "\"\"\"\n",
    "Find tax level that will induce a balanced budget.\n",
    "\n",
    "\"\"\"\n",
    "function find_balanced_budget_tax(c::Real)\n",
    "    function steady_state_budget(t::Real)\n",
    "      u_rate, e_rate, w = compute_steady_state_quantities(c, t)\n",
    "      return t - u_rate * c\n",
    "    end\n",
    "\n",
    "    τ = brent(steady_state_budget, 0.0, 0.9 * c)\n",
    "\n",
    "    return τ\n",
    "end\n",
    "\n",
    "# Levels of unemployment insurance we wish to study\n",
    "Nc = 60\n",
    "c_vec = linspace(5.0, 140.0, Nc)\n",
    "\n",
    "tax_vec = Vector{Float64}(Nc)\n",
    "unempl_vec = Vector{Float64}(Nc)\n",
    "empl_vec = Vector{Float64}(Nc)\n",
    "welfare_vec = Vector{Float64}(Nc)\n",
    "\n",
    "for i = 1:Nc\n",
    "    t = find_balanced_budget_tax(c_vec[i])\n",
    "    u_rate, e_rate, welfare = compute_steady_state_quantities(c_vec[i], t)\n",
    "    tax_vec[i] = t\n",
    "    unempl_vec[i] = u_rate\n",
    "    empl_vec[i] = e_rate\n",
    "    welfare_vec[i] = welfare\n",
    "end\n",
    "\n",
    "fig, axes = subplots(2, 2, figsize=(15, 10))\n",
    "\n",
    "plots = [unempl_vec, empl_vec, tax_vec, welfare_vec]\n",
    "titles = [\"Unemployment\", \"Employment\", \"Tax\", \"Welfare\"]\n",
    "\n",
    "for (ax, plot, title) in zip(axes, plots, titles)\n",
    "    ax[:plot](c_vec, plot, \"b-\", lw=2, alpha=0.7)\n",
    "    ax[:set](title=title)\n",
    "end\n",
    "\n",
    "fig[:tight_layout]()"
   ]
  },
  {
   "cell_type": "code",
   "execution_count": 10,
   "metadata": {},
   "outputs": [
    {
     "name": "stdout",
     "output_type": "stream",
     "text": [
      "Initial Steady State: [0.0826681, 0.917332]\n"
     ]
    }
   ],
   "source": [
    "lm = LakeModel()\n",
    "x0 = rate_steady_state(lm)\n",
    "println(\"Initial Steady State: $x0\")"
   ]
  },
  {
   "cell_type": "markdown",
   "metadata": {},
   "source": [
    "```none\n",
    "Initial Steady State: [0.0826681, 0.917332]\n",
    "```\n"
   ]
  },
  {
   "cell_type": "code",
   "execution_count": 11,
   "metadata": {},
   "outputs": [
    {
     "data": {
      "text/html": [
       "50"
      ],
      "text/plain": [
       "50"
      ]
     },
     "execution_count": 11,
     "metadata": {},
     "output_type": "execute_result"
    }
   ],
   "source": [
    "N0 = 100\n",
    "T = 50"
   ]
  },
  {
   "cell_type": "code",
   "execution_count": 12,
   "metadata": {},
   "outputs": [
    {
     "data": {
      "text/plain": [
       "LakeModel{Float64}(0.2, 0.013, 0.0124, 0.00822, 0.00418, [0.805824 0.0252931; 0.198356 0.978887], [0.80247 0.0251879; 0.19753 0.974812])"
      ]
     },
     "execution_count": 12,
     "metadata": {},
     "output_type": "execute_result"
    }
   ],
   "source": [
    "lm = LakeModel(λ = 0.2)"
   ]
  },
  {
   "cell_type": "markdown",
   "metadata": {},
   "source": [
    "```none\n",
    "LakeModel{Float64}(0.2, 0.013, 0.0124, 0.00822, 0.00418, [0.805824 0.0252931; 0.198356 0.978887], [0.80247 0.0251879; 0.19753 0.974812])\n",
    "```\n"
   ]
  },
  {
   "cell_type": "code",
   "execution_count": 13,
   "metadata": {},
   "outputs": [
    {
     "ename": "LoadError",
     "evalue": "\u001b[91mUndefVarError: TF not defined\u001b[39m",
     "output_type": "error",
     "traceback": [
      "\u001b[91mUndefVarError: TF not defined\u001b[39m",
      "",
      "Stacktrace:",
      " [1] \u001b[1msimulate_stock_path\u001b[22m\u001b[22m\u001b[1m(\u001b[22m\u001b[22m::LakeModel{Float64}, ::Array{Float64,1}, ::Int64\u001b[1m)\u001b[22m\u001b[22m at \u001b[1m.\\In[3]:37\u001b[22m\u001b[22m",
      " [2] \u001b[1minclude_string\u001b[22m\u001b[22m\u001b[1m(\u001b[22m\u001b[22m::String, ::String\u001b[1m)\u001b[22m\u001b[22m at \u001b[1m.\\loading.jl:522\u001b[22m\u001b[22m"
     ]
    }
   ],
   "source": [
    "xbar = rate_steady_state(lm) # new steady state\n",
    "X_path = simulate_stock_path(lm,x0 * N0, T)\n",
    "x_path = simulate_rate_path(lm,x0, T)\n",
    "println(\"New Steady State: $xbar\")"
   ]
  },
  {
   "cell_type": "markdown",
   "metadata": {},
   "source": [
    "```none\n",
    "New Steady State: [0.113096, 0.886904]\n",
    "```\n"
   ]
  },
  {
   "cell_type": "code",
   "execution_count": 14,
   "metadata": {},
   "outputs": [
    {
     "ename": "LoadError",
     "evalue": "\u001b[91mUndefVarError: X_path not defined\u001b[39m",
     "output_type": "error",
     "traceback": [
      "\u001b[91mUndefVarError: X_path not defined\u001b[39m",
      "",
      "Stacktrace:",
      " [1] \u001b[1minclude_string\u001b[22m\u001b[22m\u001b[1m(\u001b[22m\u001b[22m::String, ::String\u001b[1m)\u001b[22m\u001b[22m at \u001b[1m.\\loading.jl:522\u001b[22m\u001b[22m"
     ]
    }
   ],
   "source": [
    "titles = [\"Unemployment\" \"Employment\" \"Labor force\"]\n",
    "\n",
    "x1 = X_path[1, :]\n",
    "x2 = X_path[2, :]\n",
    "x3 = squeeze(sum(X_path, 1), 1)\n",
    "\n",
    "fig, axes = subplots(3, 1, figsize=(10, 8))\n",
    "\n",
    "for (ax, x, title) in zip(axes, [x1, x2, x3], titles)\n",
    "    ax[:plot](1:T, x, c=\"blue\")\n",
    "    ax[:set](title=title)\n",
    "end\n",
    "\n",
    "fig[:tight_layout]()"
   ]
  },
  {
   "cell_type": "code",
   "execution_count": 15,
   "metadata": {},
   "outputs": [
    {
     "ename": "LoadError",
     "evalue": "\u001b[91mUndefVarError: subplots not defined\u001b[39m",
     "output_type": "error",
     "traceback": [
      "\u001b[91mUndefVarError: subplots not defined\u001b[39m",
      "",
      "Stacktrace:",
      " [1] \u001b[1minclude_string\u001b[22m\u001b[22m\u001b[1m(\u001b[22m\u001b[22m::String, ::String\u001b[1m)\u001b[22m\u001b[22m at \u001b[1m.\\loading.jl:522\u001b[22m\u001b[22m"
     ]
    }
   ],
   "source": [
    "titles = [\"Unemployment rate\" \"Employment rate\"]\n",
    "\n",
    "fig, axes = subplots(2, 1, figsize=(10, 8))\n",
    "\n",
    "for (i, ax) in enumerate(axes)\n",
    "    ax[:plot](1:T, x_path[i, :], c=\"blue\", lw=2, alpha=0.5)\n",
    "    ax[:hlines](xbar[i], 0, T, \"r\", \"--\")\n",
    "    ax[:set](title=titles[i])\n",
    "end"
   ]
  },
  {
   "cell_type": "code",
   "execution_count": 16,
   "metadata": {},
   "outputs": [
    {
     "data": {
      "text/plain": [
       "2-element Array{Float64,1}:\n",
       " 0.0826681\n",
       " 0.917332 "
      ]
     },
     "execution_count": 16,
     "metadata": {},
     "output_type": "execute_result"
    }
   ],
   "source": [
    "lm = LakeModel()\n",
    "x0 = rate_steady_state(lm)"
   ]
  },
  {
   "cell_type": "markdown",
   "metadata": {},
   "source": [
    "```none\n",
    "2-element Array{Float64,1}:\n",
    " 0.0826681\n",
    " 0.917332\n",
    "```\n"
   ]
  },
  {
   "cell_type": "code",
   "execution_count": 17,
   "metadata": {},
   "outputs": [
    {
     "data": {
      "text/html": [
       "20"
      ],
      "text/plain": [
       "20"
      ]
     },
     "execution_count": 17,
     "metadata": {},
     "output_type": "execute_result"
    }
   ],
   "source": [
    "b_hat = 0.003\n",
    "T_hat = 20"
   ]
  },
  {
   "cell_type": "code",
   "execution_count": 18,
   "metadata": {},
   "outputs": [
    {
     "ename": "LoadError",
     "evalue": "\u001b[91mUndefVarError: TF not defined\u001b[39m",
     "output_type": "error",
     "traceback": [
      "\u001b[91mUndefVarError: TF not defined\u001b[39m",
      "",
      "Stacktrace:",
      " [1] \u001b[1msimulate_stock_path\u001b[22m\u001b[22m\u001b[1m(\u001b[22m\u001b[22m::LakeModel{Float64}, ::Array{Float64,1}, ::Int64\u001b[1m)\u001b[22m\u001b[22m at \u001b[1m.\\In[3]:37\u001b[22m\u001b[22m",
      " [2] \u001b[1minclude_string\u001b[22m\u001b[22m\u001b[1m(\u001b[22m\u001b[22m::String, ::String\u001b[1m)\u001b[22m\u001b[22m at \u001b[1m.\\loading.jl:522\u001b[22m\u001b[22m"
     ]
    }
   ],
   "source": [
    "lm = LakeModel(b=b_hat)\n",
    "X_path1 = simulate_stock_path(lm,x0 * N0, T_hat) # simulate stocks\n",
    "x_path1 = simulate_rate_path(lm,x0, T_hat) # simulate rates"
   ]
  },
  {
   "cell_type": "markdown",
   "metadata": {},
   "source": [
    "```none\n",
    "2×20 Array{Float64,2}:\n",
    " 0.0826681  0.0739993  0.067915  …  0.0536612  0.0536401  0.0536253\n",
    " 0.917332   0.926001   0.932085     0.946339   0.94636    0.946375\n",
    "```\n"
   ]
  },
  {
   "cell_type": "code",
   "execution_count": 19,
   "metadata": {},
   "outputs": [
    {
     "ename": "LoadError",
     "evalue": "\u001b[91mUndefVarError: X_path1 not defined\u001b[39m",
     "output_type": "error",
     "traceback": [
      "\u001b[91mUndefVarError: X_path1 not defined\u001b[39m",
      "",
      "Stacktrace:",
      " [1] \u001b[1minclude_string\u001b[22m\u001b[22m\u001b[1m(\u001b[22m\u001b[22m::String, ::String\u001b[1m)\u001b[22m\u001b[22m at \u001b[1m.\\loading.jl:522\u001b[22m\u001b[22m"
     ]
    }
   ],
   "source": [
    "lm = LakeModel(b=0.0124)\n",
    "X_path2 = simulate_stock_path(lm, X_path1[:, end-1], T-T_hat+1) # simulate stocks\n",
    "x_path2 = simulate_rate_path(lm, x_path1[:, end-1], T-T_hat+1) # simulate rates"
   ]
  },
  {
   "cell_type": "markdown",
   "metadata": {},
   "source": [
    "```none\n",
    "2×31 Array{Float64,2}:\n",
    " 0.0536401  0.0624842  0.0686335  …  0.0826652  0.0826655  0.0826657\n",
    " 0.94636    0.937516   0.931366      0.917335   0.917335   0.917334\n",
    "```\n"
   ]
  },
  {
   "cell_type": "code",
   "execution_count": 20,
   "metadata": {},
   "outputs": [
    {
     "ename": "LoadError",
     "evalue": "\u001b[91mUndefVarError: x_path1 not defined\u001b[39m",
     "output_type": "error",
     "traceback": [
      "\u001b[91mUndefVarError: x_path1 not defined\u001b[39m",
      "",
      "Stacktrace:",
      " [1] \u001b[1minclude_string\u001b[22m\u001b[22m\u001b[1m(\u001b[22m\u001b[22m::String, ::String\u001b[1m)\u001b[22m\u001b[22m at \u001b[1m.\\loading.jl:522\u001b[22m\u001b[22m"
     ]
    }
   ],
   "source": [
    "x_path = hcat(x_path1, x_path2[:, 2:end]) # note [2:] to avoid doubling period 20\n",
    "X_path = hcat(X_path1, X_path2[:, 2:end])"
   ]
  },
  {
   "cell_type": "markdown",
   "metadata": {},
   "source": [
    "```none\n",
    "2×50 Array{Float64,2}:\n",
    " 8.26681   7.36131   6.72078   6.2653  …   8.45538   8.49076   8.52628\n",
    " 91.7332   92.1167   92.2379   92.1769     93.8293   94.2215   94.6153\n",
    "```\n"
   ]
  },
  {
   "cell_type": "code",
   "execution_count": 21,
   "metadata": {},
   "outputs": [
    {
     "ename": "LoadError",
     "evalue": "\u001b[91mUndefVarError: X_path not defined\u001b[39m",
     "output_type": "error",
     "traceback": [
      "\u001b[91mUndefVarError: X_path not defined\u001b[39m",
      "",
      "Stacktrace:",
      " [1] \u001b[1minclude_string\u001b[22m\u001b[22m\u001b[1m(\u001b[22m\u001b[22m::String, ::String\u001b[1m)\u001b[22m\u001b[22m at \u001b[1m.\\loading.jl:522\u001b[22m\u001b[22m"
     ]
    }
   ],
   "source": [
    "titles = [\"Unemployment\" \"Employment\" \"Labor force\"]\n",
    "\n",
    "x1 = X_path[1,:]\n",
    "x2 = X_path[2,:]\n",
    "x3 = squeeze(sum(X_path, 1), 1)\n",
    "\n",
    "fig, axes = subplots(3, 1, figsize=(10, 9))\n",
    "\n",
    "for (ax, x, title) in zip(axes, [x1, x2, x3], titles)\n",
    "    ax[:plot](1:T, x, \"b-\", lw=2, alpha=0.7)\n",
    "    ax[:set](title=title, ylim=(minimum(x-1), maximum(x+1)))\n",
    "end\n",
    "\n",
    "fig[:tight_layout]()"
   ]
  },
  {
   "cell_type": "code",
   "execution_count": 22,
   "metadata": {},
   "outputs": [
    {
     "ename": "LoadError",
     "evalue": "\u001b[91mUndefVarError: subplots not defined\u001b[39m",
     "output_type": "error",
     "traceback": [
      "\u001b[91mUndefVarError: subplots not defined\u001b[39m",
      "",
      "Stacktrace:",
      " [1] \u001b[1minclude_string\u001b[22m\u001b[22m\u001b[1m(\u001b[22m\u001b[22m::String, ::String\u001b[1m)\u001b[22m\u001b[22m at \u001b[1m.\\loading.jl:522\u001b[22m\u001b[22m"
     ]
    }
   ],
   "source": [
    "titles = [\"Unemployment Rate\" \"Employment Rate\"]\n",
    "\n",
    "fig, axes = subplots(2, 1, figsize=(10, 8))\n",
    "\n",
    "for (i, ax) in enumerate(axes)\n",
    "    ax[:plot](1:T, x_path[i, :], \"-b\", lw=2, alpha=0.7)\n",
    "    ax[:hlines](x0[i], 0, T, \"r\", \"--\")\n",
    "    ax[:set](title=titles[i])\n",
    "end"
   ]
  },
  {
   "cell_type": "code",
   "execution_count": null,
   "metadata": {},
   "outputs": [],
   "source": []
  }
 ],
 "metadata": {
  "kernelspec": {
   "display_name": "Julia 0.6.2",
   "language": "julia",
   "name": "julia-0.6"
  },
  "language_info": {
   "file_extension": ".jl",
   "mimetype": "application/julia",
   "name": "julia",
   "version": "0.6.2"
  }
 },
 "nbformat": 4,
 "nbformat_minor": 2
}
