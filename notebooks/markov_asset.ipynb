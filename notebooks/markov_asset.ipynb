{
 "cells": [
  {
   "cell_type": "markdown",
   "metadata": {},
   "source": [
    "Notebook created: 2018-03-29 04:30:33  \n",
    "Generated from: _build_jl/jl/markov_asset.rst  "
   ]
  },
  {
   "cell_type": "code",
   "execution_count": null,
   "metadata": {},
   "outputs": [],
   "source": [
    "using QuantEcon\n",
    "using Plots\n",
    "using LaTeXStrings\n",
    "\n",
    "pyplot()\n",
    "\n",
    "n = 25\n",
    "mc = tauchen(n, 0.96, 0.25)\n",
    "sim_length = 80\n",
    "\n",
    "x_series = simulate(mc, sim_length; init=round(Int, n / 2))\n",
    "g_series = exp.(x_series)\n",
    "d_series = cumprod(g_series) # assumes d_0 = 1\n",
    "\n",
    "series = [x_series g_series d_series log.(d_series)]\n",
    "labels = [L\"$X_t$\" L\"$g_t$\" L\"$d_t$\" L\"$log (d_t)$\"]\n",
    "plot(series, layout=4, labels=labels)"
   ]
  },
  {
   "cell_type": "code",
   "execution_count": null,
   "metadata": {},
   "outputs": [],
   "source": [
    "n = 25  # size of state space\n",
    "β = 0.9\n",
    "mc = tauchen(n, 0.96, 0.02)\n",
    "\n",
    "K = mc.p .* exp.(mc.state_values)'\n",
    "\n",
    "I = eye(n)\n",
    "v = (I - β * K) \\  (β * K * ones(n, 1))\n",
    "\n",
    "plot(mc.state_values,\n",
    "    v,\n",
    "    lw=2,\n",
    "    ylabel=\"price-dividend ratio\",\n",
    "    xlabel=\"state\",\n",
    "    alpha=0.7,\n",
    "    label=L\"$v$\")"
   ]
  },
  {
   "cell_type": "code",
   "execution_count": null,
   "metadata": {},
   "outputs": [],
   "source": [
    "#=\n",
    "\n",
    "@authors: Spencer Lyon, Tom Sargent, John Stachurski\n",
    "\n",
    "=#\n",
    "\n",
    "using QuantEcon\n",
    "\n",
    "# A default Markov chain for the state process\n",
    "ρ = 0.9\n",
    "σ = 0.02\n",
    "n = 25\n",
    "default_mc = tauchen(n, ρ, σ)\n",
    "\n",
    "mutable struct AssetPriceModel{TF<:AbstractFloat, TI<:Integer}\n",
    "    β :: TF            # Discount factor\n",
    "    γ :: TF            # Coefficient of risk aversion\n",
    "    mc :: MarkovChain  # State process\n",
    "    n :: TI            # Number of states\n",
    "    g :: Function      # Function mapping states into growth rates\n",
    "end\n",
    "\n",
    "function AssetPriceModel(;β::AbstractFloat=0.96, γ::AbstractFloat=2.0,\n",
    "                          mc::MarkovChain=default_mc, g::Function=exp)\n",
    "    n = size(mc.p)[1]\n",
    "    return AssetPriceModel(β, γ, mc, n, g)\n",
    "end\n",
    "\n",
    "\n",
    "\"\"\"\n",
    "Stability test for a given matrix Q.\n",
    "\"\"\"\n",
    "function test_stability(ap::AssetPriceModel, Q::Matrix)\n",
    "    sr = maximum(abs, eigvals(Q))\n",
    "    if sr >= 1 / ap.β\n",
    "        msg = \"Spectral radius condition failed with radius = $sr\"\n",
    "        throw(ArgumentError(msg))\n",
    "    end\n",
    "end\n",
    "\n",
    "\n",
    "\"\"\"\n",
    "Computes the price-dividend ratio of the Lucas tree.\n",
    "\n",
    "\"\"\"\n",
    "function tree_price(ap::AssetPriceModel)\n",
    "    # == Simplify names, set up matrices  == #\n",
    "    β, γ, P, y = ap.β, ap.γ, ap.mc.p, ap.mc.state_values\n",
    "    y = reshape(y, 1, ap.n)\n",
    "    J = P .* ap.g.(y).^(1 - γ)\n",
    "\n",
    "    # == Make sure that a unique solution exists == #\n",
    "    test_stability(ap, J)\n",
    "\n",
    "    # == Compute v == #\n",
    "    I = eye(ap.n)\n",
    "    Ones = ones(ap.n)\n",
    "    v = (I - β * J) \\ (β * J * Ones)\n",
    "\n",
    "    return v\n",
    "end"
   ]
  },
  {
   "cell_type": "code",
   "execution_count": null,
   "metadata": {},
   "outputs": [],
   "source": [
    "using Plots, LaTeXStrings\n",
    "pyplot()\n",
    "\n",
    "γs = [1.2, 1.4, 1.6, 1.8, 2.0]\n",
    "ap = AssetPriceModel()\n",
    "states = ap.mc.state_values\n",
    "\n",
    "lines = []\n",
    "labels = []\n",
    "\n",
    "for γ in γs\n",
    "    ap.γ = γ\n",
    "    v = tree_price(ap)\n",
    "    label=\"γ = $γ\"\n",
    "    push!(labels, label)\n",
    "    push!(lines, v)\n",
    "end\n",
    "\n",
    "plot(lines,\n",
    "    labels=reshape(labels, 1, length(labels)),\n",
    "    title=\"Price-dividend ratio as a function of the state\",\n",
    "    ylabel=\"price-dividend ratio\",\n",
    "    xlabel=\"state\")"
   ]
  },
  {
   "cell_type": "code",
   "execution_count": null,
   "metadata": {},
   "outputs": [],
   "source": [
    "\"\"\"\n",
    "Computes price of a consol bond with payoff ζ\n",
    "\n",
    "\"\"\"\n",
    "function consol_price(ap::AssetPriceModel, ζ::AbstractFloat)\n",
    "    # == Simplify names, set up matrices  == #\n",
    "    β, γ, P, y = ap.β, ap.γ, ap.mc.p, ap.mc.state_values\n",
    "    y = reshape(y, 1, ap.n)\n",
    "    M = P .* ap.g.(y).^(-γ)\n",
    "\n",
    "    # == Make sure that a unique solution exists == #\n",
    "    test_stability(ap, M)\n",
    "\n",
    "    # == Compute price == #\n",
    "    I = eye(ap.n)\n",
    "    Ones = ones(ap.n)\n",
    "    p = (I - β * M) \\ ( β * ζ * M * Ones)\n",
    "\n",
    "    return p\n",
    "end"
   ]
  },
  {
   "cell_type": "code",
   "execution_count": null,
   "metadata": {},
   "outputs": [],
   "source": [
    "\"\"\"\n",
    "Computes price of a perpetual call option on a consol bond.\n",
    "\n",
    "\"\"\"\n",
    "function call_option(ap::AssetPriceModel, ζ::AbstractFloat, p_s::AbstractFloat, ϵ=1e-7)\n",
    "\n",
    "    # == Simplify names, set up matrices  == #\n",
    "    β, γ, P, y = ap.β, ap.γ, ap.mc.p, ap.mc.state_values\n",
    "    y = reshape(y, 1, ap.n)\n",
    "    M = P .* ap.g.(y).^(-γ)\n",
    "\n",
    "    # == Make sure that a unique console price exists == #\n",
    "    test_stability(ap, M)\n",
    "\n",
    "    # == Compute option price == #\n",
    "    p = consol_price(ap, ζ)\n",
    "    w = zeros(ap.n, 1)\n",
    "    error = ϵ + 1\n",
    "    while (error > ϵ)\n",
    "        # == Maximize across columns == #\n",
    "        w_new = max.(β * M * w, p - p_s)\n",
    "        # == Find maximal difference of each component and update == #\n",
    "        error = maximum(abs, w - w_new)\n",
    "        w = w_new\n",
    "    end\n",
    "\n",
    "    return w\n",
    "end"
   ]
  },
  {
   "cell_type": "code",
   "execution_count": null,
   "metadata": {},
   "outputs": [],
   "source": [
    "ap = AssetPriceModel(β=0.9)\n",
    "ζ = 1.0\n",
    "strike_price = 40.0\n",
    "\n",
    "x = ap.mc.state_values\n",
    "p = consol_price(ap, ζ)\n",
    "w = call_option(ap, ζ, strike_price)\n",
    "\n",
    "plot(x, p, color=\"blue\", lw=2, xlabel=\"state\", label=\"consol price\")\n",
    "plot!(x, w, color=\"green\", lw=2, label=\"value of call option\")"
   ]
  },
  {
   "cell_type": "code",
   "execution_count": null,
   "metadata": {},
   "outputs": [],
   "source": [
    "n = 5\n",
    "P = 0.0125 .* ones(n, n)\n",
    "P .+= diagm(0.95 .- 0.0125 .* ones(5))\n",
    "s = [1.05, 1.025, 1.0, 0.975, 0.95]\n",
    "γ = 2.0\n",
    "β = 0.94\n",
    "ζ = 1.0"
   ]
  },
  {
   "cell_type": "code",
   "execution_count": null,
   "metadata": {},
   "outputs": [],
   "source": [
    "n = 5\n",
    "P = 0.0125 .* ones(n, n)\n",
    "P = P .+ diagm(0.95 - 0.0125 .* ones(5))\n",
    "s = [0.95, 0.975, 1.0, 1.025, 1.05]  # state values\n",
    "mc = MarkovChain(P, s)\n",
    "\n",
    "γ = 2.0\n",
    "β = 0.94\n",
    "ζ = 1.0\n",
    "p_s = 150.0"
   ]
  },
  {
   "cell_type": "markdown",
   "metadata": {},
   "source": [
    "```none\n",
    "150.0\n",
    "```\n"
   ]
  },
  {
   "cell_type": "code",
   "execution_count": null,
   "metadata": {},
   "outputs": [],
   "source": [
    "ap = AssetPriceModel(β=β, mc=mc, γ=γ, g=x -> x)"
   ]
  },
  {
   "cell_type": "code",
   "execution_count": null,
   "metadata": {},
   "outputs": [],
   "source": [
    "v = tree_price(ap)\n",
    "println(\"Lucas Tree Prices: $v\\n\")"
   ]
  },
  {
   "cell_type": "markdown",
   "metadata": {},
   "source": [
    "```none\n",
    "Lucas Tree Prices: [29.474,21.9357,17.5714,14.7252,12.7222]\n",
    "```\n"
   ]
  },
  {
   "cell_type": "code",
   "execution_count": null,
   "metadata": {},
   "outputs": [],
   "source": [
    "v_consol = consol_price(ap, 1.0)\n",
    "println(\"Consol Bond Prices: $(v_consol)\\n\")"
   ]
  },
  {
   "cell_type": "markdown",
   "metadata": {},
   "source": [
    "```none\n",
    "Consol Bond Prices: [753.871,242.551,148.676,109.251,87.5686]\n",
    "```\n"
   ]
  },
  {
   "cell_type": "code",
   "execution_count": null,
   "metadata": {},
   "outputs": [],
   "source": [
    "w = call_option(ap, ζ, p_s)"
   ]
  },
  {
   "cell_type": "code",
   "execution_count": null,
   "metadata": {},
   "outputs": [],
   "source": [
    "function finite_horizon_call_option(ap::AssetPriceModel,\n",
    "                                    ζ::AbstractFloat,\n",
    "                                    p_s::AbstractFloat,\n",
    "                                    k::Int)\n",
    "\n",
    "    # == Simplify names, set up matrices  == #\n",
    "    β, γ, P, y = ap.β, ap.γ, ap.mc.p, ap.mc.state_values\n",
    "    y = y'\n",
    "    M = P .* ap.g.(y).^(- γ)\n",
    "\n",
    "    # == Make sure that a unique console price exists == #\n",
    "    test_stability(ap, M)\n",
    "\n",
    "    # == Compute option price == #\n",
    "    p = consol_price(ap, ζ)\n",
    "    w = zeros(ap.n, 1)\n",
    "    for i in 1:k\n",
    "        # == Maximize across columns == #\n",
    "        w = max.(β * M * w, p - p_s)\n",
    "    end\n",
    "\n",
    "    return w\n",
    "end"
   ]
  },
  {
   "cell_type": "code",
   "execution_count": null,
   "metadata": {},
   "outputs": [],
   "source": [
    "lines = []\n",
    "labels = []\n",
    "for k in [5, 25]\n",
    "    w = finite_horizon_call_option(ap, ζ, p_s, k)\n",
    "    push!(lines, w)\n",
    "    push!(labels, \"k = $k\")\n",
    "end\n",
    "plot(lines, labels=reshape(labels, 1, length(labels)))"
   ]
  }
 ],
 "metadata": {
  "kernelspec": {
   "display_name": "Julia 0.6.2",
   "language": "julia",
   "name": "julia-0.6"
  }
 },
 "nbformat": 4,
 "nbformat_minor": 2
}