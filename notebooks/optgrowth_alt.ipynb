{
 "cells": [
  {
   "cell_type": "markdown",
   "metadata": {},
   "source": [
    "Modified from https://lectures.quantecon.org/jl/optgrowth.html"
   ]
  },
  {
   "cell_type": "code",
   "execution_count": 2,
   "metadata": {
    "collapsed": true
   },
   "outputs": [],
   "source": [
    "using QuantEcon, Optim, Distributions\n",
    "using Optim\n",
    "using Distributions"
   ]
  },
  {
   "cell_type": "code",
   "execution_count": 3,
   "metadata": {},
   "outputs": [
    {
     "name": "stdout",
     "output_type": "stream",
     "text": [
      "typeof(dist) = Distributions.Normal{Float64}\n"
     ]
    },
    {
     "data": {
      "text/plain": [
       "Distributions.Normal{Float64}"
      ]
     },
     "execution_count": 3,
     "metadata": {},
     "output_type": "execute_result"
    }
   ],
   "source": [
    "dist = Normal(0.1,2)\n",
    "@show typeof(dist)"
   ]
  },
  {
   "cell_type": "code",
   "execution_count": 29,
   "metadata": {},
   "outputs": [
    {
     "data": {
      "text/html": [
       "true"
      ],
      "text/plain": [
       "true"
      ]
     },
     "execution_count": 29,
     "metadata": {},
     "output_type": "execute_result"
    }
   ],
   "source": [
    "#For calculating the expectation of a normally distributed variables.\n",
    "#This sort of general utility could be added to the Distributions library, for example.\n",
    "function expectation_operator(dist::Distributions.Normal; n_quad = 20)\n",
    "    nodes, weights = qnwnorm(n_quad, mean(dist), var(dist)) #Gaussian quadrature weights\n",
    "    return f -> dot(f.(nodes), weights) #Returns an operator for taking expectations\n",
    "end\n",
    "\n",
    "#Example\n",
    "dist = Normal(0.1,2)\n",
    "E = expectation_operator(dist)\n",
    "var(dist) ≈ E(x -> x^2) - E(x -> x)^2 #i.e. calculate the variance"
   ]
  },
  {
   "cell_type": "code",
   "execution_count": 26,
   "metadata": {},
   "outputs": [
    {
     "data": {
      "text/plain": [
       "bellman_operator (generic function with 3 methods)"
      ]
     },
     "execution_count": 26,
     "metadata": {},
     "output_type": "execute_result"
    }
   ],
   "source": [
    "function bellman_operator(w::Vector, \n",
    "                          grid::Vector,\n",
    "                          β::AbstractFloat, \n",
    "                          u::Function, \n",
    "                          f::Function, \n",
    "                            dist,\n",
    "                          Tw::Vector = similar(w);\n",
    "                          compute_policy::Bool = false)\n",
    "\n",
    "    # === Apply linear interpolation to w === #\n",
    "    w_func = LinInterp(grid, w)\n",
    "    E = expectation_operator(dist)\n",
    "\n",
    "    if compute_policy\n",
    "        σ = similar(w)\n",
    "    end\n",
    "\n",
    "    # == set Tw[i] = max_c { u(c) + β E w(f(y  - c) z)} == #\n",
    "    for (i, y) in enumerate(grid)\n",
    "        objective(c) = - u(c) - β * E(ζ -> w_func.(f.(y - c) .* exp(ζ)))\n",
    "        res = optimize(objective, 1e-10, y)\n",
    "\n",
    "        if compute_policy\n",
    "            σ[i] = res.minimizer\n",
    "        end\n",
    "        Tw[i] = - res.minimum\n",
    "    end\n",
    "\n",
    "    if compute_policy\n",
    "        return Tw, σ\n",
    "    else\n",
    "        return Tw\n",
    "    end\n",
    "end"
   ]
  },
  {
   "cell_type": "code",
   "execution_count": 21,
   "metadata": {},
   "outputs": [
    {
     "data": {
      "text/plain": [
       "v_star (generic function with 1 method)"
      ]
     },
     "execution_count": 21,
     "metadata": {},
     "output_type": "execute_result"
    }
   ],
   "source": [
    "α = 0.4\n",
    "β = 0.96\n",
    "μ = 0\n",
    "s = 0.1\n",
    "\n",
    "c1 = log(1 - α * β) / (1 - β)\n",
    "c2 = (μ + α * log(α * β)) / (1 - α)\n",
    "c3 = 1 / (1 - β)\n",
    "c4 = 1 / (1 - α * β)\n",
    "\n",
    "# Utility \n",
    "u(c) = log(c)\n",
    "\n",
    "u_prime(c) = 1 / c\n",
    "\n",
    "# Deterministic part of production function\n",
    "f(k) = k^α\n",
    "\n",
    "f_prime(k) = α * k^(α - 1)\n",
    "\n",
    "# True optimal policy\n",
    "c_star(y) = (1 - α * β) * y\n",
    "\n",
    "# True value function\n",
    "v_star(y) = c1 + c2 * (c3 - c4) + c4 * log(y)"
   ]
  },
  {
   "cell_type": "code",
   "execution_count": 20,
   "metadata": {},
   "outputs": [
    {
     "data": {
      "text/plain": [
       "250-element Array{Float64,1}:\n",
       " 1.17882 \n",
       " 1.03475 \n",
       " 0.772314\n",
       " 1.01998 \n",
       " 1.04106 \n",
       " 1.07967 \n",
       " 0.969199\n",
       " 1.02022 \n",
       " 0.921195\n",
       " 1.00937 \n",
       " 0.837468\n",
       " 0.911398\n",
       " 1.01586 \n",
       " ⋮       \n",
       " 0.936155\n",
       " 0.799707\n",
       " 1.0635  \n",
       " 1.04838 \n",
       " 1.01744 \n",
       " 0.913255\n",
       " 0.938978\n",
       " 1.05238 \n",
       " 1.30786 \n",
       " 1.00912 \n",
       " 0.977582\n",
       " 0.8729  "
      ]
     },
     "execution_count": 20,
     "metadata": {},
     "output_type": "execute_result"
    }
   ],
   "source": [
    "grid_max = 4         # Largest grid point\n",
    "grid_size = 200      # Number of grid points\n",
    "shock_size = 250     # Number of shock draws in Monte Carlo integral\n",
    "\n",
    "grid_y = collect(linspace(1e-5, grid_max, grid_size))\n",
    "shocks = exp.(μ + s * randn(shock_size))"
   ]
  },
  {
   "cell_type": "code",
   "execution_count": 17,
   "metadata": {},
   "outputs": [
    {
     "data": {
      "text/plain": [
       "Plots.GRBackend()"
      ]
     },
     "execution_count": 17,
     "metadata": {},
     "output_type": "execute_result"
    }
   ],
   "source": [
    "using Plots\n",
    "gr()"
   ]
  },
  {
   "cell_type": "code",
   "execution_count": 27,
   "metadata": {},
   "outputs": [
    {
     "data": {
      "text/html": [
       "<?xml version=\"1.0\" encoding=\"utf-8\"?>\n",
       "<svg xmlns=\"http://www.w3.org/2000/svg\" xmlns:xlink=\"http://www.w3.org/1999/xlink\" width=\"600\" height=\"400\" viewBox=\"0 0 600 400\">\n",
       "<defs>\n",
       "  <clipPath id=\"clip6400\">\n",
       "    <rect x=\"0\" y=\"0\" width=\"600\" height=\"400\"/>\n",
       "  </clipPath>\n",
       "</defs>\n",
       "<polygon clip-path=\"url(#clip6400)\" points=\"\n",
       "0,400 600,400 600,0 0,0 \n",
       "  \" fill=\"#ffffff\" fill-opacity=\"1\"/>\n",
       "<defs>\n",
       "  <clipPath id=\"clip6401\">\n",
       "    <rect x=\"120\" y=\"0\" width=\"421\" height=\"400\"/>\n",
       "  </clipPath>\n",
       "</defs>\n",
       "<polygon clip-path=\"url(#clip6400)\" points=\"\n",
       "36.1567,375.869 580.315,375.869 580.315,11.811 36.1567,11.811 \n",
       "  \" fill=\"#ffffff\" fill-opacity=\"1\"/>\n",
       "<defs>\n",
       "  <clipPath id=\"clip6402\">\n",
       "    <rect x=\"36\" y=\"11\" width=\"545\" height=\"365\"/>\n",
       "  </clipPath>\n",
       "</defs>\n",
       "<polyline clip-path=\"url(#clip6402)\" style=\"stroke:#000000; stroke-width:0.5; stroke-opacity:0.1; fill:none\" points=\"\n",
       "  172.195,375.869 172.195,11.811 \n",
       "  \"/>\n",
       "<polyline clip-path=\"url(#clip6402)\" style=\"stroke:#000000; stroke-width:0.5; stroke-opacity:0.1; fill:none\" points=\"\n",
       "  308.235,375.869 308.235,11.811 \n",
       "  \"/>\n",
       "<polyline clip-path=\"url(#clip6402)\" style=\"stroke:#000000; stroke-width:0.5; stroke-opacity:0.1; fill:none\" points=\"\n",
       "  444.275,375.869 444.275,11.811 \n",
       "  \"/>\n",
       "<polyline clip-path=\"url(#clip6402)\" style=\"stroke:#000000; stroke-width:0.5; stroke-opacity:0.1; fill:none\" points=\"\n",
       "  580.315,375.869 580.315,11.811 \n",
       "  \"/>\n",
       "<polyline clip-path=\"url(#clip6402)\" style=\"stroke:#000000; stroke-width:0.5; stroke-opacity:0.1; fill:none\" points=\"\n",
       "  36.1567,355.529 580.315,355.529 \n",
       "  \"/>\n",
       "<polyline clip-path=\"url(#clip6402)\" style=\"stroke:#000000; stroke-width:0.5; stroke-opacity:0.1; fill:none\" points=\"\n",
       "  36.1567,287.39 580.315,287.39 \n",
       "  \"/>\n",
       "<polyline clip-path=\"url(#clip6402)\" style=\"stroke:#000000; stroke-width:0.5; stroke-opacity:0.1; fill:none\" points=\"\n",
       "  36.1567,219.251 580.315,219.251 \n",
       "  \"/>\n",
       "<polyline clip-path=\"url(#clip6402)\" style=\"stroke:#000000; stroke-width:0.5; stroke-opacity:0.1; fill:none\" points=\"\n",
       "  36.1567,151.111 580.315,151.111 \n",
       "  \"/>\n",
       "<polyline clip-path=\"url(#clip6402)\" style=\"stroke:#000000; stroke-width:0.5; stroke-opacity:0.1; fill:none\" points=\"\n",
       "  36.1567,82.972 580.315,82.972 \n",
       "  \"/>\n",
       "<polyline clip-path=\"url(#clip6402)\" style=\"stroke:#000000; stroke-width:0.5; stroke-opacity:0.1; fill:none\" points=\"\n",
       "  36.1567,14.8327 580.315,14.8327 \n",
       "  \"/>\n",
       "<polyline clip-path=\"url(#clip6400)\" style=\"stroke:#000000; stroke-width:1; stroke-opacity:1; fill:none\" points=\"\n",
       "  36.1567,375.869 580.315,375.869 \n",
       "  \"/>\n",
       "<polyline clip-path=\"url(#clip6400)\" style=\"stroke:#000000; stroke-width:1; stroke-opacity:1; fill:none\" points=\"\n",
       "  36.1567,375.869 36.1567,11.811 \n",
       "  \"/>\n",
       "<polyline clip-path=\"url(#clip6400)\" style=\"stroke:#000000; stroke-width:1; stroke-opacity:1; fill:none\" points=\"\n",
       "  172.195,375.869 172.195,370.408 \n",
       "  \"/>\n",
       "<polyline clip-path=\"url(#clip6400)\" style=\"stroke:#000000; stroke-width:1; stroke-opacity:1; fill:none\" points=\"\n",
       "  308.235,375.869 308.235,370.408 \n",
       "  \"/>\n",
       "<polyline clip-path=\"url(#clip6400)\" style=\"stroke:#000000; stroke-width:1; stroke-opacity:1; fill:none\" points=\"\n",
       "  444.275,375.869 444.275,370.408 \n",
       "  \"/>\n",
       "<polyline clip-path=\"url(#clip6400)\" style=\"stroke:#000000; stroke-width:1; stroke-opacity:1; fill:none\" points=\"\n",
       "  580.315,375.869 580.315,370.408 \n",
       "  \"/>\n",
       "<polyline clip-path=\"url(#clip6400)\" style=\"stroke:#000000; stroke-width:1; stroke-opacity:1; fill:none\" points=\"\n",
       "  36.1567,355.529 44.3191,355.529 \n",
       "  \"/>\n",
       "<polyline clip-path=\"url(#clip6400)\" style=\"stroke:#000000; stroke-width:1; stroke-opacity:1; fill:none\" points=\"\n",
       "  36.1567,287.39 44.3191,287.39 \n",
       "  \"/>\n",
       "<polyline clip-path=\"url(#clip6400)\" style=\"stroke:#000000; stroke-width:1; stroke-opacity:1; fill:none\" points=\"\n",
       "  36.1567,219.251 44.3191,219.251 \n",
       "  \"/>\n",
       "<polyline clip-path=\"url(#clip6400)\" style=\"stroke:#000000; stroke-width:1; stroke-opacity:1; fill:none\" points=\"\n",
       "  36.1567,151.111 44.3191,151.111 \n",
       "  \"/>\n",
       "<polyline clip-path=\"url(#clip6400)\" style=\"stroke:#000000; stroke-width:1; stroke-opacity:1; fill:none\" points=\"\n",
       "  36.1567,82.972 44.3191,82.972 \n",
       "  \"/>\n",
       "<polyline clip-path=\"url(#clip6400)\" style=\"stroke:#000000; stroke-width:1; stroke-opacity:1; fill:none\" points=\"\n",
       "  36.1567,14.8327 44.3191,14.8327 \n",
       "  \"/>\n",
       "<g clip-path=\"url(#clip6400)\">\n",
       "<text style=\"fill:#000000; fill-opacity:1; font-family:Arial,Helvetica Neue,Helvetica,sans-serif; font-size:12; text-anchor:middle;\" transform=\"rotate(0, 172.195, 389.669)\" x=\"172.195\" y=\"389.669\">1</text>\n",
       "</g>\n",
       "<g clip-path=\"url(#clip6400)\">\n",
       "<text style=\"fill:#000000; fill-opacity:1; font-family:Arial,Helvetica Neue,Helvetica,sans-serif; font-size:12; text-anchor:middle;\" transform=\"rotate(0, 308.235, 389.669)\" x=\"308.235\" y=\"389.669\">2</text>\n",
       "</g>\n",
       "<g clip-path=\"url(#clip6400)\">\n",
       "<text style=\"fill:#000000; fill-opacity:1; font-family:Arial,Helvetica Neue,Helvetica,sans-serif; font-size:12; text-anchor:middle;\" transform=\"rotate(0, 444.275, 389.669)\" x=\"444.275\" y=\"389.669\">3</text>\n",
       "</g>\n",
       "<g clip-path=\"url(#clip6400)\">\n",
       "<text style=\"fill:#000000; fill-opacity:1; font-family:Arial,Helvetica Neue,Helvetica,sans-serif; font-size:12; text-anchor:middle;\" transform=\"rotate(0, 580.315, 389.669)\" x=\"580.315\" y=\"389.669\">4</text>\n",
       "</g>\n",
       "<g clip-path=\"url(#clip6400)\">\n",
       "<text style=\"fill:#000000; fill-opacity:1; font-family:Arial,Helvetica Neue,Helvetica,sans-serif; font-size:12; text-anchor:end;\" transform=\"rotate(0, 30.1567, 360.029)\" x=\"30.1567\" y=\"360.029\">-50</text>\n",
       "</g>\n",
       "<g clip-path=\"url(#clip6400)\">\n",
       "<text style=\"fill:#000000; fill-opacity:1; font-family:Arial,Helvetica Neue,Helvetica,sans-serif; font-size:12; text-anchor:end;\" transform=\"rotate(0, 30.1567, 291.89)\" x=\"30.1567\" y=\"291.89\">-45</text>\n",
       "</g>\n",
       "<g clip-path=\"url(#clip6400)\">\n",
       "<text style=\"fill:#000000; fill-opacity:1; font-family:Arial,Helvetica Neue,Helvetica,sans-serif; font-size:12; text-anchor:end;\" transform=\"rotate(0, 30.1567, 223.751)\" x=\"30.1567\" y=\"223.751\">-40</text>\n",
       "</g>\n",
       "<g clip-path=\"url(#clip6400)\">\n",
       "<text style=\"fill:#000000; fill-opacity:1; font-family:Arial,Helvetica Neue,Helvetica,sans-serif; font-size:12; text-anchor:end;\" transform=\"rotate(0, 30.1567, 155.611)\" x=\"30.1567\" y=\"155.611\">-35</text>\n",
       "</g>\n",
       "<g clip-path=\"url(#clip6400)\">\n",
       "<text style=\"fill:#000000; fill-opacity:1; font-family:Arial,Helvetica Neue,Helvetica,sans-serif; font-size:12; text-anchor:end;\" transform=\"rotate(0, 30.1567, 87.472)\" x=\"30.1567\" y=\"87.472\">-30</text>\n",
       "</g>\n",
       "<g clip-path=\"url(#clip6400)\">\n",
       "<text style=\"fill:#000000; fill-opacity:1; font-family:Arial,Helvetica Neue,Helvetica,sans-serif; font-size:12; text-anchor:end;\" transform=\"rotate(0, 30.1567, 19.3327)\" x=\"30.1567\" y=\"19.3327\">-25</text>\n",
       "</g>\n",
       "<polyline clip-path=\"url(#clip6402)\" style=\"stroke:#009af9; stroke-width:2; stroke-opacity:0.6; fill:none\" points=\"\n",
       "  36.1567,375.869 38.8912,128.92 41.6256,113.602 44.3601,104.614 47.0946,98.2584 49.829,93.321 52.5635,89.2858 55.298,85.8744 58.0324,82.918 60.7669,80.3092 \n",
       "  63.5014,77.9785 66.2358,75.8723 68.9703,73.945 71.7047,72.1739 74.4392,70.5358 77.1737,69.0074 79.9081,67.5812 82.6426,66.2381 85.3771,64.975 88.1115,63.7773 \n",
       "  90.846,62.6438 93.5805,61.5632 96.3149,60.535 99.0494,59.5505 101.784,58.6096 104.518,57.7062 107.253,56.8382 109.987,56.0038 112.722,55.1985 115.456,54.4226 \n",
       "  118.191,53.6724 120.925,52.9466 123.66,52.2447 126.394,51.5637 129.128,50.9029 131.863,50.2621 134.597,49.6386 137.332,49.0322 140.066,48.4426 142.801,47.8677 \n",
       "  145.535,47.3073 148.27,46.7614 151.004,46.2282 153.739,45.7074 156.473,45.1989 159.208,44.7018 161.942,44.2153 164.677,43.7395 167.411,43.2739 170.145,42.8177 \n",
       "  172.88,42.3706 175.614,41.9326 178.349,41.5031 181.083,41.0815 183.818,40.6679 186.552,40.2621 189.287,39.8634 192.021,39.4717 194.756,39.087 197.49,38.7088 \n",
       "  200.225,38.337 202.959,37.9713 205.693,37.6115 208.428,37.2576 211.162,36.9092 213.897,36.5662 216.631,36.2283 219.366,35.8957 222.1,35.5679 224.835,35.2449 \n",
       "  227.569,34.9265 230.304,34.6127 233.038,34.3033 235.773,33.9982 238.507,33.6972 241.241,33.4002 243.976,33.1071 246.71,32.8179 249.445,32.5325 252.179,32.2506 \n",
       "  254.914,31.9723 257.648,31.6975 260.383,31.426 263.117,31.1579 265.852,30.8928 268.586,30.6311 271.321,30.3723 274.055,30.1165 276.79,29.8637 279.524,29.6137 \n",
       "  282.258,29.3665 284.993,29.122 287.727,28.8803 290.462,28.6411 293.196,28.4045 295.931,28.1704 298.665,27.9386 301.4,27.7095 304.134,27.4825 306.869,27.2579 \n",
       "  309.603,27.0355 312.338,26.8154 315.072,26.5974 317.806,26.3816 320.541,26.1678 323.275,25.9561 326.01,25.7464 328.744,25.5387 331.479,25.3329 334.213,25.129 \n",
       "  336.948,24.927 339.682,24.7267 342.417,24.5283 345.151,24.3316 347.886,24.1367 350.62,23.9435 353.354,23.752 356.089,23.562 358.823,23.3738 361.558,23.187 \n",
       "  364.292,23.0019 367.027,22.8183 369.761,22.6362 372.496,22.4556 375.23,22.2765 377.965,22.0988 380.699,21.9224 383.434,21.7477 386.168,21.574 388.903,21.402 \n",
       "  391.637,21.231 394.371,21.0616 397.106,20.8933 399.84,20.7264 402.575,20.5606 405.309,20.3961 408.044,20.2329 410.778,20.0707 413.513,19.9099 416.247,19.7501 \n",
       "  418.982,19.5916 421.716,19.4341 424.451,19.2778 427.185,19.1225 429.919,18.9683 432.654,18.8152 435.388,18.6631 438.123,18.5122 440.857,18.3621 443.592,18.2132 \n",
       "  446.326,18.0652 449.061,17.9182 451.795,17.7722 454.53,17.627 457.264,17.483 459.999,17.3397 462.733,17.1975 465.467,17.0561 468.202,16.9156 470.936,16.7761 \n",
       "  473.671,16.6373 476.405,16.4995 479.14,16.3625 481.874,16.2264 484.609,16.0911 487.343,15.9565 490.078,15.8229 492.812,15.69 495.547,15.5579 498.281,15.4267 \n",
       "  501.016,15.2961 503.75,15.1664 506.484,15.0374 509.219,14.9091 511.953,14.7816 514.688,14.6548 517.422,14.5287 520.157,14.4034 522.891,14.2788 525.626,14.1548 \n",
       "  528.36,14.0316 531.095,13.909 533.829,13.7871 536.564,13.6659 539.298,13.5453 542.032,13.4254 544.767,13.3062 547.501,13.1875 550.236,13.0695 552.97,12.9522 \n",
       "  555.705,12.8354 558.439,12.7193 561.174,12.6037 563.908,12.4888 566.643,12.3745 569.377,12.2607 572.112,12.1476 574.846,12.035 577.58,11.923 580.315,11.8116 \n",
       "  \n",
       "  \"/>\n",
       "<polyline clip-path=\"url(#clip6402)\" style=\"stroke:#e26f46; stroke-width:2; stroke-opacity:0.6; fill:none\" points=\"\n",
       "  36.1567,297.182 38.8912,128.905 41.6256,113.576 44.3601,104.607 47.0946,98.2437 49.829,93.3076 52.5635,89.2744 55.298,85.8644 58.0324,82.9105 60.7669,80.3049 \n",
       "  63.5014,77.9741 66.2358,75.8656 68.9703,73.9408 71.7047,72.17 74.4392,70.5306 77.1737,69.0043 79.9081,67.5766 82.6426,66.2354 85.3771,64.9709 88.1115,63.7748 \n",
       "  90.846,62.6401 93.5805,61.5607 96.3149,60.5315 99.0494,59.5482 101.784,58.6066 104.518,57.7035 107.253,56.8359 109.987,56.0009 112.722,55.1964 115.456,54.4201 \n",
       "  118.191,53.6701 120.925,52.9447 123.66,52.2423 126.394,51.5615 129.128,50.9011 131.863,50.2598 134.597,49.6366 137.332,49.0305 140.066,48.4405 142.801,47.8658 \n",
       "  145.535,47.3057 148.27,46.7595 151.004,46.2264 153.739,45.7058 156.473,45.1972 159.208,44.7 161.942,44.2138 164.677,43.738 167.411,43.2723 170.145,42.8161 \n",
       "  172.88,42.3692 175.614,41.9311 178.349,41.5015 181.083,41.0801 183.818,40.6666 186.552,40.2606 189.287,39.862 192.021,39.4704 194.756,39.0857 197.49,38.7075 \n",
       "  200.225,38.3357 202.959,37.97 205.693,37.6103 208.428,37.2563 211.162,36.9079 213.897,36.5649 216.631,36.2271 219.366,35.8944 222.1,35.5667 224.835,35.2437 \n",
       "  227.569,34.9254 230.304,34.6116 233.038,34.3022 235.773,33.997 238.507,33.696 241.241,33.3991 243.976,33.106 246.71,32.8168 249.445,32.5314 252.179,32.2496 \n",
       "  254.914,31.9713 257.648,31.6965 260.383,31.425 263.117,31.1568 265.852,30.8919 268.586,30.6301 271.321,30.3713 274.055,30.1156 276.79,29.8627 279.524,29.6128 \n",
       "  282.258,29.3656 284.993,29.1211 287.727,28.8793 290.462,28.6402 293.196,28.4035 295.931,28.1694 298.665,27.9378 301.4,27.7085 304.134,27.4816 306.869,27.257 \n",
       "  309.603,27.0347 312.338,26.8145 315.072,26.5966 317.806,26.3807 320.541,26.167 323.275,25.9553 326.01,25.7456 328.744,25.5379 331.479,25.3321 334.213,25.1282 \n",
       "  336.948,24.9261 339.682,24.7259 342.417,24.5275 345.151,24.3308 347.886,24.1359 350.62,23.9427 353.354,23.7512 356.089,23.5613 358.823,23.373 361.558,23.1863 \n",
       "  364.292,23.0012 367.027,22.8176 369.761,22.6355 372.496,22.4549 375.23,22.2758 377.965,22.0981 380.699,21.9218 383.434,21.7469 386.168,21.5734 388.903,21.4012 \n",
       "  391.637,21.2304 394.371,21.0608 397.106,20.8926 399.84,20.7256 402.575,20.5599 405.309,20.3954 408.044,20.2322 410.778,20.0701 413.513,19.9092 416.247,19.7495 \n",
       "  418.982,19.5909 421.716,19.4334 424.451,19.2771 427.185,19.1218 429.919,18.9677 432.654,18.8146 435.388,18.6625 438.123,18.5115 440.857,18.3615 443.592,18.2125 \n",
       "  446.326,18.0645 449.061,17.9175 451.795,17.7715 454.53,17.6264 457.264,17.4823 459.999,17.3391 462.733,17.1969 465.467,17.0555 468.202,16.915 470.936,16.7755 \n",
       "  473.671,16.6368 476.405,16.4989 479.14,16.3619 481.874,16.2258 484.609,16.0905 487.343,15.956 490.078,15.8223 492.812,15.6894 495.547,15.5574 498.281,15.4261 \n",
       "  501.016,15.2956 503.75,15.1658 506.484,15.0368 509.219,14.9085 511.953,14.781 514.688,14.6543 517.422,14.5282 520.157,14.4029 522.891,14.2782 525.626,14.1543 \n",
       "  528.36,14.031 531.095,13.9085 533.829,13.7866 536.564,13.6654 539.298,13.5448 542.032,13.4249 544.767,13.3056 547.501,13.187 550.236,13.069 552.97,12.9516 \n",
       "  555.705,12.8349 558.439,12.7188 561.174,12.6032 563.908,12.4883 566.643,12.374 569.377,12.2602 572.112,12.1471 574.846,12.0345 577.58,11.9225 580.315,11.811 \n",
       "  \n",
       "  \"/>\n",
       "<polygon clip-path=\"url(#clip6400)\" points=\"\n",
       "478.621,78.051 562.315,78.051 562.315,32.691 478.621,32.691 \n",
       "  \" fill=\"#ffffff\" fill-opacity=\"1\"/>\n",
       "<polyline clip-path=\"url(#clip6400)\" style=\"stroke:#000000; stroke-width:1; stroke-opacity:1; fill:none\" points=\"\n",
       "  478.621,78.051 562.315,78.051 562.315,32.691 478.621,32.691 478.621,78.051 \n",
       "  \"/>\n",
       "<polyline clip-path=\"url(#clip6400)\" style=\"stroke:#009af9; stroke-width:2; stroke-opacity:0.6; fill:none\" points=\"\n",
       "  484.621,47.811 520.621,47.811 \n",
       "  \"/>\n",
       "<g clip-path=\"url(#clip6400)\">\n",
       "<text style=\"fill:#000000; fill-opacity:1; font-family:Arial,Helvetica Neue,Helvetica,sans-serif; font-size:12; text-anchor:start;\" transform=\"rotate(0, 526.621, 52.311)\" x=\"526.621\" y=\"52.311\">Tv^*</text>\n",
       "</g>\n",
       "<polyline clip-path=\"url(#clip6400)\" style=\"stroke:#e26f46; stroke-width:2; stroke-opacity:0.6; fill:none\" points=\"\n",
       "  484.621,62.931 520.621,62.931 \n",
       "  \"/>\n",
       "<g clip-path=\"url(#clip6400)\">\n",
       "<text style=\"fill:#000000; fill-opacity:1; font-family:Arial,Helvetica Neue,Helvetica,sans-serif; font-size:12; text-anchor:start;\" transform=\"rotate(0, 526.621, 67.431)\" x=\"526.621\" y=\"67.431\">v^</text>\n",
       "</g>\n",
       "</svg>\n"
      ]
     },
     "execution_count": 27,
     "metadata": {},
     "output_type": "execute_result"
    }
   ],
   "source": [
    "\n",
    "w = bellman_operator(v_star.(grid_y),\n",
    "                     grid_y,\n",
    "                     β,\n",
    "                     log,\n",
    "                     k -> k^α,\n",
    "                     Normal(μ,s^2)) #Shock distribution\n",
    "\n",
    "plot(grid_y, w, lw=2, alpha=0.6, label=\"Tv^*\")\n",
    "plot!(grid_y, v_star.(grid_y), lw=2, alpha=0.6, label=\"v^\")"
   ]
  },
  {
   "cell_type": "code",
   "execution_count": null,
   "metadata": {
    "collapsed": true
   },
   "outputs": [],
   "source": [
    "w = 5 * log.(grid_y)  # An initial condition -- fairly arbitrary\n",
    "n = 35\n",
    "\n",
    "lb = \"initial condition\"\n",
    "plot(grid_y, w, lw=2, alpha=0.6, label=lb)\n",
    "for i in 1:n\n",
    "    w = bellman_operator(w,\n",
    "                         grid_y,\n",
    "                         β,\n",
    "                         log,\n",
    "                         k -> k^α,\n",
    "                         shocks)\n",
    "\n",
    "    plot!(grid_y, w, color=jet(i / n), lw=2, alpha=0.6)\n",
    "end\n",
    "\n",
    "lb = \"true value function\"\n",
    "ax[:plot](grid_y, v_star.(grid_y), \"k-\", lw=2, alpha=0.8, label=lb)\n",
    "ax[:legend](loc=\"lower right\")\n",
    "\n",
    "show()"
   ]
  },
  {
   "cell_type": "code",
   "execution_count": null,
   "metadata": {
    "collapsed": true
   },
   "outputs": [],
   "source": [
    "function solve_optgrowth(initial_w;\n",
    "                         tol::AbstractFloat=1e-6,\n",
    "                         max_iter::Integer=500)\n",
    "\n",
    "    w = initial_w  # Set initial condition\n",
    "    error = tol + 1\n",
    "    i = 0\n",
    "\n",
    "    # == Create storage array for bellman_operator. Reduces  memory\n",
    "    # allocation and speeds code up == #\n",
    "    Tw = similar(grid_y)\n",
    "\n",
    "    # Iterate to find solution\n",
    "\n",
    "    while (error > tol) && (i < max_iter)\n",
    "        w_new = bellman_operator(w,\n",
    "                             grid_y,\n",
    "                             β,\n",
    "                             log,\n",
    "                             k -> k^α,\n",
    "                             shocks)\n",
    "        error = maximum(abs, w_new - w)\n",
    "        w = w_new\n",
    "        i += 1\n",
    "    end\n",
    "\n",
    "    return w\n",
    "end"
   ]
  },
  {
   "cell_type": "code",
   "execution_count": null,
   "metadata": {
    "collapsed": true
   },
   "outputs": [],
   "source": [
    "initial_w = 5 * log.(grid_y)\n",
    "v_star_approx = solve_optgrowth(initial_w)\n",
    "\n",
    "fig, ax = subplots(figsize=(9, 5))\n",
    "ax[:set_ylim](-35, -24)\n",
    "ax[:plot](grid_y, v_star_approx, lw=2, alpha=0.6, label=\"approximate value function\")\n",
    "ax[:plot](grid_y, v_star.(grid_y), lw=2, alpha=0.6, label=\"true value function\")\n",
    "ax[:legend](loc=\"lower right\")\n",
    "show()"
   ]
  },
  {
   "cell_type": "code",
   "execution_count": null,
   "metadata": {
    "collapsed": true
   },
   "outputs": [],
   "source": [
    "import QuantEcon: compute_fixed_point\n",
    "\n",
    "Tw = similar(grid_y)\n",
    "initial_w = 5 * log.(grid_y)\n",
    "\n",
    "bellman_operator(w) = bellman_operator(w,\n",
    "                                       grid_y,\n",
    "                                       β,\n",
    "                                       log,\n",
    "                                       k -> k^α,\n",
    "                                       shocks)\n",
    "\n",
    "v_star_approx = compute_fixed_point(bellman_operator,\n",
    "                                    initial_w,\n",
    "                                    max_iter=500,\n",
    "                                    verbose=2,\n",
    "                                    print_skip=10,\n",
    "                                    err_tol=1e-5)"
   ]
  },
  {
   "cell_type": "markdown",
   "metadata": {},
   "source": [
    "```none\n",
    "Compute iterate 10 with error 0.709153897728406\n",
    "Compute iterate 20 with error 0.47095844432889145\n",
    "Compute iterate 30 with error 0.3131085083453158\n",
    "Compute iterate 40 with error 0.20816475495214704\n",
    "Compute iterate 50 with error 0.13839472275577336\n",
    "Compute iterate 60 with error 0.09200932833702069\n",
    "Compute iterate 70 with error 0.061170804294146564\n",
    "Compute iterate 80 with error 0.04066834706496181\n",
    "Compute iterate 90 with error 0.027037644380378367\n",
    "Compute iterate 100 with error 0.01797550838462314\n",
    "Compute iterate 110 with error 0.011950704623018282\n",
    "Compute iterate 120 with error 0.00794521845620011\n",
    "Compute iterate 130 with error 0.005282240529794535\n",
    "Compute iterate 140 with error 0.003511805895449527\n",
    "Compute iterate 150 with error 0.0023347631704915273\n",
    "Compute iterate 160 with error 0.001552226753144481\n",
    "Compute iterate 170 with error 0.0010319710041208907\n",
    "Compute iterate 180 with error 0.0006860880028760619\n",
    "Compute iterate 190 with error 0.0004561336956570017\n",
    "Compute iterate 200 with error 0.00030325256715002524\n",
    "Compute iterate 210 with error 0.00020161220411551994\n",
    "Compute iterate 220 with error 0.0001340383727708172\n",
    "Compute iterate 230 with error 8.911308481529545e-5\n",
    "Compute iterate 240 with error 5.924528747414115e-5\n",
    "Compute iterate 250 with error 3.9388200878676116e-5\n",
    "Compute iterate 260 with error 2.6186561168373146e-5\n",
    "Compute iterate 270 with error 1.7409680953761608e-5\n",
    "Compute iterate 280 with error 1.1574523867352582e-5\n",
    "Converged in 284 steps\n",
    "```\n"
   ]
  },
  {
   "cell_type": "code",
   "execution_count": null,
   "metadata": {
    "collapsed": true
   },
   "outputs": [],
   "source": [
    "fig, ax = subplots(figsize=(9, 5))\n",
    "ax[:set_ylim](-35, -24)\n",
    "ax[:plot](grid_y, v_star_approx, lw=2, alpha=0.6, label=\"approximate value function\")\n",
    "ax[:plot](grid_y, v_star.(grid_y), lw=2, alpha=0.6, label=\"true value function\")\n",
    "ax[:legend](loc=\"lower right\")\n",
    "show()"
   ]
  },
  {
   "cell_type": "code",
   "execution_count": null,
   "metadata": {
    "collapsed": true
   },
   "outputs": [],
   "source": [
    "Tw, σ = bellman_operator(v_star_approx,\n",
    "                         grid_y,\n",
    "                         β,\n",
    "                         log,\n",
    "                         k -> k^α,\n",
    "                         shocks;\n",
    "                         compute_policy=true)\n",
    "\n",
    "\n",
    "cstar = (1 - α * β) * grid_y\n",
    "\n",
    "fig, ax = subplots(figsize=(9, 5))\n",
    "ax[:plot](grid_y, σ, lw=2, alpha=0.6, label=\"approximate policy function\")\n",
    "ax[:plot](grid_y, cstar, lw=2, alpha=0.6, label=\"true policy function\")\n",
    "ax[:legend](loc=\"lower right\")\n",
    "show()"
   ]
  },
  {
   "cell_type": "code",
   "execution_count": null,
   "metadata": {
    "collapsed": true
   },
   "outputs": [],
   "source": [
    "s = 0.05\n",
    "shocks = exp.(μ + s * randn(shock_size))"
   ]
  },
  {
   "cell_type": "code",
   "execution_count": null,
   "metadata": {
    "collapsed": true
   },
   "outputs": [],
   "source": [
    "\"\"\"\n",
    "Compute a time series given consumption policy σ.\n",
    "\"\"\"\n",
    "function simulate_og(σ, y0 = 0.1, ts_length=100)\n",
    "    y = Array{Float64}(ts_length)\n",
    "    ξ = randn(ts_length-1)\n",
    "    y[1] = y0\n",
    "    for t in 1:(ts_length-1)\n",
    "        y[t+1] = (y[t] - σ(y[t]))^α * exp(μ + s * ξ[t])\n",
    "    end\n",
    "    return y\n",
    "end\n",
    "\n",
    "fig, ax = subplots(figsize=(9, 6))\n",
    "\n",
    "for β in (0.9, 0.94, 0.98)\n",
    "\n",
    "    Tw = similar(grid_y)\n",
    "    initial_w = 5 * log.(grid_y)\n",
    "\n",
    "    v_star_approx = compute_fixed_point(bellman_operator,\n",
    "                                        initial_w,\n",
    "                                        max_iter=50,\n",
    "                                        verbose=0,\n",
    "                                        print_skip=10,\n",
    "                                        err_tol=1e-5)\n",
    "\n",
    "    Tw, σ = bellman_operator(v_star_approx,\n",
    "                             grid_y,\n",
    "                             β,\n",
    "                             log,\n",
    "                             k -> k^α,\n",
    "                             shocks,\n",
    "                             compute_policy=true)\n",
    "\n",
    "    σ_func = LinInterp(grid_y, σ)\n",
    "    y = simulate_og(σ_func)\n",
    "    ax[:plot](y, lw=2, alpha=0.6, label=\"β = $β\" )\n",
    "end\n",
    "\n",
    "\n",
    "ax[:legend](loc=\"lower right\")\n",
    "show()"
   ]
  }
 ],
 "metadata": {
  "kernelspec": {
   "display_name": "Julia 0.6.2",
   "language": "julia",
   "name": "julia-0.6"
  },
  "language_info": {
   "file_extension": ".jl",
   "mimetype": "application/julia",
   "name": "julia",
   "version": "0.6.2"
  }
 },
 "nbformat": 4,
 "nbformat_minor": 2
}
